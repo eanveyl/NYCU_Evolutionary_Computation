{
 "cells": [
  {
   "cell_type": "markdown",
   "metadata": {},
   "source": [
    "HW2 - 3. In order to minimize the n-dimensional sphere model, where n = 10, implement the following evolution strategies:\n",
    "a) (1,1)-ES with fixed step sizes for Gaussian mutation. sigma=0.01, 0.1, and 1.0"
   ]
  },
  {
   "cell_type": "code",
   "execution_count": 7,
   "metadata": {},
   "outputs": [
    {
     "name": "stderr",
     "output_type": "stream",
     "text": [
      "Progress:   0%|          | 232/10000000 [04:34<3288:42:21,  1.18s/it]\n"
     ]
    },
    {
     "ename": "KeyboardInterrupt",
     "evalue": "",
     "output_type": "error",
     "traceback": [
      "\u001b[1;31m---------------------------------------------------------------------------\u001b[0m",
      "\u001b[1;31mKeyboardInterrupt\u001b[0m                         Traceback (most recent call last)",
      "\u001b[1;32mc:\\Users\\eduan\\Documents\\Personal Coding Projects\\NYCU_Evolutionary_Computation\\homework2_notebook.ipynb Cell 2\u001b[0m in \u001b[0;36m<cell line: 99>\u001b[1;34m()\u001b[0m\n\u001b[0;32m     <a href='vscode-notebook-cell:/c%3A/Users/eduan/Documents/Personal%20Coding%20Projects/NYCU_Evolutionary_Computation/homework2_notebook.ipynb#W1sZmlsZQ%3D%3D?line=97'>98</a>\u001b[0m data \u001b[39m=\u001b[39m \u001b[39mlist\u001b[39m()\n\u001b[0;32m     <a href='vscode-notebook-cell:/c%3A/Users/eduan/Documents/Personal%20Coding%20Projects/NYCU_Evolutionary_Computation/homework2_notebook.ipynb#W1sZmlsZQ%3D%3D?line=98'>99</a>\u001b[0m \u001b[39mfor\u001b[39;00m run \u001b[39min\u001b[39;00m \u001b[39mrange\u001b[39m(\u001b[39m10\u001b[39m):\n\u001b[1;32m--> <a href='vscode-notebook-cell:/c%3A/Users/eduan/Documents/Personal%20Coding%20Projects/NYCU_Evolutionary_Computation/homework2_notebook.ipynb#W1sZmlsZQ%3D%3D?line=99'>100</a>\u001b[0m \tbest, score, n_iters \u001b[39m=\u001b[39m es_comma(objective, bounds, n_iter, step_size, mu, lam, initial_population, stop_criterium)\n\u001b[0;32m    <a href='vscode-notebook-cell:/c%3A/Users/eduan/Documents/Personal%20Coding%20Projects/NYCU_Evolutionary_Computation/homework2_notebook.ipynb#W1sZmlsZQ%3D%3D?line=100'>101</a>\u001b[0m \t\u001b[39mprint\u001b[39m(\u001b[39m'\u001b[39m\u001b[39mf(\u001b[39m\u001b[39m%s\u001b[39;00m\u001b[39m) = \u001b[39m\u001b[39m%f\u001b[39;00m\u001b[39m'\u001b[39m \u001b[39m%\u001b[39m (best, score))\n\u001b[0;32m    <a href='vscode-notebook-cell:/c%3A/Users/eduan/Documents/Personal%20Coding%20Projects/NYCU_Evolutionary_Computation/homework2_notebook.ipynb#W1sZmlsZQ%3D%3D?line=101'>102</a>\u001b[0m \tdata\u001b[39m.\u001b[39mappend([best, score, n_iters])\n",
      "\u001b[1;32mc:\\Users\\eduan\\Documents\\Personal Coding Projects\\NYCU_Evolutionary_Computation\\homework2_notebook.ipynb Cell 2\u001b[0m in \u001b[0;36mes_comma\u001b[1;34m(objective, bounds, n_iter, step_size, mu, lam, initial_population, stop_criterium)\u001b[0m\n\u001b[0;32m     <a href='vscode-notebook-cell:/c%3A/Users/eduan/Documents/Personal%20Coding%20Projects/NYCU_Evolutionary_Computation/homework2_notebook.ipynb#W1sZmlsZQ%3D%3D?line=45'>46</a>\u001b[0m \u001b[39m# perform the search\u001b[39;00m\n\u001b[0;32m     <a href='vscode-notebook-cell:/c%3A/Users/eduan/Documents/Personal%20Coding%20Projects/NYCU_Evolutionary_Computation/homework2_notebook.ipynb#W1sZmlsZQ%3D%3D?line=46'>47</a>\u001b[0m \u001b[39mfor\u001b[39;00m epoch \u001b[39min\u001b[39;00m tqdm(\u001b[39mrange\u001b[39m(n_iter), desc\u001b[39m=\u001b[39m\u001b[39m\"\u001b[39m\u001b[39mProgress: \u001b[39m\u001b[39m\"\u001b[39m):\n\u001b[0;32m     <a href='vscode-notebook-cell:/c%3A/Users/eduan/Documents/Personal%20Coding%20Projects/NYCU_Evolutionary_Computation/homework2_notebook.ipynb#W1sZmlsZQ%3D%3D?line=47'>48</a>\u001b[0m \t\u001b[39m# evaluate fitness for the population\u001b[39;00m\n\u001b[1;32m---> <a href='vscode-notebook-cell:/c%3A/Users/eduan/Documents/Personal%20Coding%20Projects/NYCU_Evolutionary_Computation/homework2_notebook.ipynb#W1sZmlsZQ%3D%3D?line=48'>49</a>\u001b[0m \tscores \u001b[39m=\u001b[39m [objective(c) \u001b[39mfor\u001b[39;00m c \u001b[39min\u001b[39;00m population]\n\u001b[0;32m     <a href='vscode-notebook-cell:/c%3A/Users/eduan/Documents/Personal%20Coding%20Projects/NYCU_Evolutionary_Computation/homework2_notebook.ipynb#W1sZmlsZQ%3D%3D?line=49'>50</a>\u001b[0m \t\u001b[39m# rank scores in ascending order\u001b[39;00m\n\u001b[0;32m     <a href='vscode-notebook-cell:/c%3A/Users/eduan/Documents/Personal%20Coding%20Projects/NYCU_Evolutionary_Computation/homework2_notebook.ipynb#W1sZmlsZQ%3D%3D?line=50'>51</a>\u001b[0m \tranks \u001b[39m=\u001b[39m argsort(argsort(scores))\n",
      "\u001b[1;32mc:\\Users\\eduan\\Documents\\Personal Coding Projects\\NYCU_Evolutionary_Computation\\homework2_notebook.ipynb Cell 2\u001b[0m in \u001b[0;36m<listcomp>\u001b[1;34m(.0)\u001b[0m\n\u001b[0;32m     <a href='vscode-notebook-cell:/c%3A/Users/eduan/Documents/Personal%20Coding%20Projects/NYCU_Evolutionary_Computation/homework2_notebook.ipynb#W1sZmlsZQ%3D%3D?line=45'>46</a>\u001b[0m \u001b[39m# perform the search\u001b[39;00m\n\u001b[0;32m     <a href='vscode-notebook-cell:/c%3A/Users/eduan/Documents/Personal%20Coding%20Projects/NYCU_Evolutionary_Computation/homework2_notebook.ipynb#W1sZmlsZQ%3D%3D?line=46'>47</a>\u001b[0m \u001b[39mfor\u001b[39;00m epoch \u001b[39min\u001b[39;00m tqdm(\u001b[39mrange\u001b[39m(n_iter), desc\u001b[39m=\u001b[39m\u001b[39m\"\u001b[39m\u001b[39mProgress: \u001b[39m\u001b[39m\"\u001b[39m):\n\u001b[0;32m     <a href='vscode-notebook-cell:/c%3A/Users/eduan/Documents/Personal%20Coding%20Projects/NYCU_Evolutionary_Computation/homework2_notebook.ipynb#W1sZmlsZQ%3D%3D?line=47'>48</a>\u001b[0m \t\u001b[39m# evaluate fitness for the population\u001b[39;00m\n\u001b[1;32m---> <a href='vscode-notebook-cell:/c%3A/Users/eduan/Documents/Personal%20Coding%20Projects/NYCU_Evolutionary_Computation/homework2_notebook.ipynb#W1sZmlsZQ%3D%3D?line=48'>49</a>\u001b[0m \tscores \u001b[39m=\u001b[39m [objective(c) \u001b[39mfor\u001b[39;00m c \u001b[39min\u001b[39;00m population]\n\u001b[0;32m     <a href='vscode-notebook-cell:/c%3A/Users/eduan/Documents/Personal%20Coding%20Projects/NYCU_Evolutionary_Computation/homework2_notebook.ipynb#W1sZmlsZQ%3D%3D?line=49'>50</a>\u001b[0m \t\u001b[39m# rank scores in ascending order\u001b[39;00m\n\u001b[0;32m     <a href='vscode-notebook-cell:/c%3A/Users/eduan/Documents/Personal%20Coding%20Projects/NYCU_Evolutionary_Computation/homework2_notebook.ipynb#W1sZmlsZQ%3D%3D?line=50'>51</a>\u001b[0m \tranks \u001b[39m=\u001b[39m argsort(argsort(scores))\n",
      "\u001b[1;32mc:\\Users\\eduan\\Documents\\Personal Coding Projects\\NYCU_Evolutionary_Computation\\homework2_notebook.ipynb Cell 2\u001b[0m in \u001b[0;36mobjective\u001b[1;34m(v)\u001b[0m\n\u001b[0;32m     <a href='vscode-notebook-cell:/c%3A/Users/eduan/Documents/Personal%20Coding%20Projects/NYCU_Evolutionary_Computation/homework2_notebook.ipynb#W1sZmlsZQ%3D%3D?line=15'>16</a>\u001b[0m \u001b[39mdef\u001b[39;00m \u001b[39mobjective\u001b[39m(v):\n\u001b[0;32m     <a href='vscode-notebook-cell:/c%3A/Users/eduan/Documents/Personal%20Coding%20Projects/NYCU_Evolutionary_Computation/homework2_notebook.ipynb#W1sZmlsZQ%3D%3D?line=16'>17</a>\u001b[0m \t\u001b[39m#x, y = v\u001b[39;00m\n\u001b[0;32m     <a href='vscode-notebook-cell:/c%3A/Users/eduan/Documents/Personal%20Coding%20Projects/NYCU_Evolutionary_Computation/homework2_notebook.ipynb#W1sZmlsZQ%3D%3D?line=17'>18</a>\u001b[0m \t\u001b[39m#return -20.0 * exp(-0.2 * sqrt(0.5 * (x**2 + y**2))) - exp(0.5 * (cos(2 * pi * x) + cos(2 * pi * y))) + e + 20\u001b[39;00m\n\u001b[1;32m---> <a href='vscode-notebook-cell:/c%3A/Users/eduan/Documents/Personal%20Coding%20Projects/NYCU_Evolutionary_Computation/homework2_notebook.ipynb#W1sZmlsZQ%3D%3D?line=18'>19</a>\u001b[0m \tv \u001b[39m=\u001b[39m np\u001b[39m.\u001b[39;49marray(v)  \u001b[39m#transform to numpy array\u001b[39;00m\n\u001b[0;32m     <a href='vscode-notebook-cell:/c%3A/Users/eduan/Documents/Personal%20Coding%20Projects/NYCU_Evolutionary_Computation/homework2_notebook.ipynb#W1sZmlsZQ%3D%3D?line=19'>20</a>\u001b[0m \t\u001b[39mreturn\u001b[39;00m np\u001b[39m.\u001b[39msum(v\u001b[39m*\u001b[39mv)\n",
      "\u001b[1;31mKeyboardInterrupt\u001b[0m: "
     ]
    }
   ],
   "source": [
    "# evolution strategy (mu, lambda) of the ackley objective function\n",
    "from numpy import asarray\n",
    "from numpy import exp\n",
    "from numpy import sqrt\n",
    "from numpy import cos\n",
    "from numpy import e\n",
    "from numpy import pi\n",
    "from numpy import argsort\n",
    "from numpy.random import randn\n",
    "from numpy.random import rand\n",
    "from numpy.random import seed\n",
    "import numpy as np\n",
    "from tqdm import tqdm\n",
    "\n",
    "# objective function\n",
    "def objective(v):\n",
    "\t#x, y = v\n",
    "\t#return -20.0 * exp(-0.2 * sqrt(0.5 * (x**2 + y**2))) - exp(0.5 * (cos(2 * pi * x) + cos(2 * pi * y))) + e + 20\n",
    "\tv = np.array(v)  #transform to numpy array\n",
    "\treturn np.sum(v*v)\n",
    "\n",
    "# check if a point is within the bounds of the search\n",
    "def in_bounds(point, bounds):\n",
    "\t# enumerate all dimensions of the point\n",
    "\tfor d in range(len(bounds)):\n",
    "\t\t# check if out of bounds for this dimension\n",
    "\t\tif point[d] < bounds[d, 0] or point[d] > bounds[d, 1]:\n",
    "\t\t\treturn False\n",
    "\treturn True\n",
    "\n",
    "# evolution strategy (mu, lambda) algorithm\n",
    "def es_comma(objective, bounds, n_iter, step_size, mu, lam, initial_population, stop_criterium):\n",
    "\tbest, best_eval = None, 1e+10\n",
    "\t# calculate the number of children per parent\n",
    "\tn_children = int(lam / mu)\n",
    "\t# initial population\n",
    "\tpopulation = list()\n",
    "\t#for _ in range(lam):\n",
    "\t#\tcandidate = None\n",
    "\t#\twhile candidate is None or not in_bounds(candidate, bounds):\n",
    "\t#\t\tcandidate = bounds[:, 0] + rand(len(bounds)) * (bounds[:, 1] - bounds[:, 0])\n",
    "\t#\tpopulation.append(candidate)\n",
    "\n",
    "\tpopulation = initial_population\n",
    "\n",
    "\t# perform the search\n",
    "\tfor epoch in tqdm(range(n_iter), desc=\"Progress: \"):\n",
    "\t\t# evaluate fitness for the population\n",
    "\t\tscores = [objective(c) for c in population]\n",
    "\t\t# rank scores in ascending order\n",
    "\t\tranks = argsort(argsort(scores))\n",
    "\t\t# select the indexes for the top mu ranked solutions\n",
    "\t\tselected = [i for i,_ in enumerate(ranks) if ranks[i] < mu]\n",
    "\t\t# create children from parents\n",
    "\t\tchildren = list()\n",
    "\t\tfor i in selected:\n",
    "\t\t\t# check if this parent is the best solution ever seen\n",
    "\t\t\tif scores[i] < best_eval:\n",
    "\t\t\t\tbest, best_eval = population[i], scores[i]\n",
    "\t\t\t\t#print('%d, Best: f(%s) = %.5f' % (epoch, best, best_eval))\n",
    "\t\t\t\tif best_eval <= stop_criterium:\n",
    "\t\t\t\t\tprint(\"Stop criterium reached. Stopping the algorithm.\")\n",
    "\t\t\t\t\treturn [best, best_eval, epoch]\n",
    "\t\t\t# create children for parent\n",
    "\t\t\tfor _ in range(n_children):\n",
    "\t\t\t\tchild = None\n",
    "\t\t\t\twhile child is None or not in_bounds(child, bounds):\n",
    "\t\t\t\t\tchild = population[i] + randn(len(bounds)) * step_size\n",
    "\t\t\t\tchildren.append(child)\n",
    "\n",
    "\t\t# replace population with children\n",
    "\t\tpopulation = children\n",
    "\treturn [best, best_eval, n_iter]\n",
    "\n",
    "\n",
    "# seed the pseudorandom number generator\n",
    "seed(1)\n",
    "# define range for input\n",
    "bounds = asarray([[-10, 10], [-10, 10], [-10, 10], [-10, 10], [-10, 10], [-10, 10], [-10, 10], [-10, 10], [-10, 10], [-10, 10]])\n",
    "# define the total iterations\n",
    "n_iter = 10000000\n",
    "# define the maximum step size\n",
    "step_size = 1\n",
    "# number of parents selected\n",
    "mu = 1\n",
    "# the number of children generated by parents\n",
    "lam = 1\n",
    "# create the initial population\n",
    "genome_length = 10 \n",
    "initial_population = np.ones((1,genome_length)).tolist()\n",
    "# stop criterium\n",
    "stop_criterium = 0.005\n",
    "# perform the evolution strategy (mu, lambda) search\n",
    "\n",
    "data = list()\n",
    "for run in range(10):\n",
    "\tbest, score, n_iters = es_comma(objective, bounds, n_iter, step_size, mu, lam, initial_population, stop_criterium)\n",
    "\tprint('f(%s) = %f' % (best, score))\n",
    "\tdata.append([best, score, n_iters])\n",
    "\n",
    "print('Done!')\n",
    "print(data)\n"
   ]
  },
  {
   "cell_type": "markdown",
   "metadata": {},
   "source": [
    "b) (1+1)-ES with fixed step sizes for Gaussian mutation. sigma=0.01, 0.1, and 1.0"
   ]
  },
  {
   "cell_type": "code",
   "execution_count": 3,
   "metadata": {},
   "outputs": [
    {
     "name": "stderr",
     "output_type": "stream",
     "text": [
      "Progress: 100%|██████████| 10000000/10000000 [14:40<00:00, 11360.94it/s]\n"
     ]
    },
    {
     "name": "stdout",
     "output_type": "stream",
     "text": [
      "f([-0.01673787 -0.07111183  0.02399291  0.27407535  0.07109033 -0.322478\n",
      "  0.13071394 -0.22538382  0.17487997  0.08864556]) = 0.296401\n"
     ]
    },
    {
     "name": "stderr",
     "output_type": "stream",
     "text": [
      "Progress:   2%|▏         | 193100/10000000 [00:17<15:04, 10839.50it/s]\n"
     ]
    },
    {
     "ename": "KeyboardInterrupt",
     "evalue": "",
     "output_type": "error",
     "traceback": [
      "\u001b[1;31m---------------------------------------------------------------------------\u001b[0m",
      "\u001b[1;31mKeyboardInterrupt\u001b[0m                         Traceback (most recent call last)",
      "\u001b[1;32mc:\\Users\\eduan\\Documents\\Personal Coding Projects\\NYCU_Evolutionary_Computation\\homework2_notebook.ipynb Cell 4\u001b[0m in \u001b[0;36m<cell line: 97>\u001b[1;34m()\u001b[0m\n\u001b[0;32m     <a href='vscode-notebook-cell:/c%3A/Users/eduan/Documents/Personal%20Coding%20Projects/NYCU_Evolutionary_Computation/homework2_notebook.ipynb#W3sZmlsZQ%3D%3D?line=95'>96</a>\u001b[0m data \u001b[39m=\u001b[39m \u001b[39mlist\u001b[39m()\n\u001b[0;32m     <a href='vscode-notebook-cell:/c%3A/Users/eduan/Documents/Personal%20Coding%20Projects/NYCU_Evolutionary_Computation/homework2_notebook.ipynb#W3sZmlsZQ%3D%3D?line=96'>97</a>\u001b[0m \u001b[39mfor\u001b[39;00m run \u001b[39min\u001b[39;00m \u001b[39mrange\u001b[39m(\u001b[39m10\u001b[39m):\n\u001b[1;32m---> <a href='vscode-notebook-cell:/c%3A/Users/eduan/Documents/Personal%20Coding%20Projects/NYCU_Evolutionary_Computation/homework2_notebook.ipynb#W3sZmlsZQ%3D%3D?line=97'>98</a>\u001b[0m \tbest, score, n_iters \u001b[39m=\u001b[39m es_comma(objective, bounds, n_iter, step_size, mu, lam, initial_population, stop_criterium)\n\u001b[0;32m     <a href='vscode-notebook-cell:/c%3A/Users/eduan/Documents/Personal%20Coding%20Projects/NYCU_Evolutionary_Computation/homework2_notebook.ipynb#W3sZmlsZQ%3D%3D?line=98'>99</a>\u001b[0m \t\u001b[39mprint\u001b[39m(\u001b[39m'\u001b[39m\u001b[39mf(\u001b[39m\u001b[39m%s\u001b[39;00m\u001b[39m) = \u001b[39m\u001b[39m%f\u001b[39;00m\u001b[39m'\u001b[39m \u001b[39m%\u001b[39m (best, score))\n\u001b[0;32m    <a href='vscode-notebook-cell:/c%3A/Users/eduan/Documents/Personal%20Coding%20Projects/NYCU_Evolutionary_Computation/homework2_notebook.ipynb#W3sZmlsZQ%3D%3D?line=99'>100</a>\u001b[0m \tdata\u001b[39m.\u001b[39mappend([best, score, n_iters])\n",
      "\u001b[1;32mc:\\Users\\eduan\\Documents\\Personal Coding Projects\\NYCU_Evolutionary_Computation\\homework2_notebook.ipynb Cell 4\u001b[0m in \u001b[0;36mes_comma\u001b[1;34m(objective, bounds, n_iter, step_size, mu, lam, initial_population, stop_criterium)\u001b[0m\n\u001b[0;32m     <a href='vscode-notebook-cell:/c%3A/Users/eduan/Documents/Personal%20Coding%20Projects/NYCU_Evolutionary_Computation/homework2_notebook.ipynb#W3sZmlsZQ%3D%3D?line=48'>49</a>\u001b[0m scores \u001b[39m=\u001b[39m [objective(c) \u001b[39mfor\u001b[39;00m c \u001b[39min\u001b[39;00m population]\n\u001b[0;32m     <a href='vscode-notebook-cell:/c%3A/Users/eduan/Documents/Personal%20Coding%20Projects/NYCU_Evolutionary_Computation/homework2_notebook.ipynb#W3sZmlsZQ%3D%3D?line=49'>50</a>\u001b[0m \u001b[39m# rank scores in ascending order\u001b[39;00m\n\u001b[1;32m---> <a href='vscode-notebook-cell:/c%3A/Users/eduan/Documents/Personal%20Coding%20Projects/NYCU_Evolutionary_Computation/homework2_notebook.ipynb#W3sZmlsZQ%3D%3D?line=50'>51</a>\u001b[0m ranks \u001b[39m=\u001b[39m argsort(argsort(scores))\n\u001b[0;32m     <a href='vscode-notebook-cell:/c%3A/Users/eduan/Documents/Personal%20Coding%20Projects/NYCU_Evolutionary_Computation/homework2_notebook.ipynb#W3sZmlsZQ%3D%3D?line=51'>52</a>\u001b[0m \u001b[39m# select the indexes for the top mu ranked solutions\u001b[39;00m\n\u001b[0;32m     <a href='vscode-notebook-cell:/c%3A/Users/eduan/Documents/Personal%20Coding%20Projects/NYCU_Evolutionary_Computation/homework2_notebook.ipynb#W3sZmlsZQ%3D%3D?line=52'>53</a>\u001b[0m selected \u001b[39m=\u001b[39m [i \u001b[39mfor\u001b[39;00m i,_ \u001b[39min\u001b[39;00m \u001b[39menumerate\u001b[39m(ranks) \u001b[39mif\u001b[39;00m ranks[i] \u001b[39m<\u001b[39m mu]\n",
      "File \u001b[1;32m<__array_function__ internals>:180\u001b[0m, in \u001b[0;36margsort\u001b[1;34m(*args, **kwargs)\u001b[0m\n",
      "File \u001b[1;32mc:\\Users\\eduan\\Anaconda3\\envs\\python39\\lib\\site-packages\\numpy\\core\\fromnumeric.py:1120\u001b[0m, in \u001b[0;36margsort\u001b[1;34m(a, axis, kind, order)\u001b[0m\n\u001b[0;32m   1012\u001b[0m \u001b[39m@array_function_dispatch\u001b[39m(_argsort_dispatcher)\n\u001b[0;32m   1013\u001b[0m \u001b[39mdef\u001b[39;00m \u001b[39margsort\u001b[39m(a, axis\u001b[39m=\u001b[39m\u001b[39m-\u001b[39m\u001b[39m1\u001b[39m, kind\u001b[39m=\u001b[39m\u001b[39mNone\u001b[39;00m, order\u001b[39m=\u001b[39m\u001b[39mNone\u001b[39;00m):\n\u001b[0;32m   1014\u001b[0m     \u001b[39m\"\"\"\u001b[39;00m\n\u001b[0;32m   1015\u001b[0m \u001b[39m    Returns the indices that would sort an array.\u001b[39;00m\n\u001b[0;32m   1016\u001b[0m \n\u001b[1;32m   (...)\u001b[0m\n\u001b[0;32m   1118\u001b[0m \n\u001b[0;32m   1119\u001b[0m \u001b[39m    \"\"\"\u001b[39;00m\n\u001b[1;32m-> 1120\u001b[0m     \u001b[39mreturn\u001b[39;00m _wrapfunc(a, \u001b[39m'\u001b[39;49m\u001b[39margsort\u001b[39;49m\u001b[39m'\u001b[39;49m, axis\u001b[39m=\u001b[39;49maxis, kind\u001b[39m=\u001b[39;49mkind, order\u001b[39m=\u001b[39;49morder)\n",
      "File \u001b[1;32mc:\\Users\\eduan\\Anaconda3\\envs\\python39\\lib\\site-packages\\numpy\\core\\fromnumeric.py:54\u001b[0m, in \u001b[0;36m_wrapfunc\u001b[1;34m(obj, method, *args, **kwds)\u001b[0m\n\u001b[0;32m     52\u001b[0m bound \u001b[39m=\u001b[39m \u001b[39mgetattr\u001b[39m(obj, method, \u001b[39mNone\u001b[39;00m)\n\u001b[0;32m     53\u001b[0m \u001b[39mif\u001b[39;00m bound \u001b[39mis\u001b[39;00m \u001b[39mNone\u001b[39;00m:\n\u001b[1;32m---> 54\u001b[0m     \u001b[39mreturn\u001b[39;00m _wrapit(obj, method, \u001b[39m*\u001b[39margs, \u001b[39m*\u001b[39m\u001b[39m*\u001b[39mkwds)\n\u001b[0;32m     56\u001b[0m \u001b[39mtry\u001b[39;00m:\n\u001b[0;32m     57\u001b[0m     \u001b[39mreturn\u001b[39;00m bound(\u001b[39m*\u001b[39margs, \u001b[39m*\u001b[39m\u001b[39m*\u001b[39mkwds)\n",
      "File \u001b[1;32mc:\\Users\\eduan\\Anaconda3\\envs\\python39\\lib\\site-packages\\numpy\\core\\fromnumeric.py:43\u001b[0m, in \u001b[0;36m_wrapit\u001b[1;34m(obj, method, *args, **kwds)\u001b[0m\n\u001b[0;32m     41\u001b[0m \u001b[39mexcept\u001b[39;00m \u001b[39mAttributeError\u001b[39;00m:\n\u001b[0;32m     42\u001b[0m     wrap \u001b[39m=\u001b[39m \u001b[39mNone\u001b[39;00m\n\u001b[1;32m---> 43\u001b[0m result \u001b[39m=\u001b[39m \u001b[39mgetattr\u001b[39m(asarray(obj), method)(\u001b[39m*\u001b[39margs, \u001b[39m*\u001b[39m\u001b[39m*\u001b[39mkwds)\n\u001b[0;32m     44\u001b[0m \u001b[39mif\u001b[39;00m wrap:\n\u001b[0;32m     45\u001b[0m     \u001b[39mif\u001b[39;00m \u001b[39mnot\u001b[39;00m \u001b[39misinstance\u001b[39m(result, mu\u001b[39m.\u001b[39mndarray):\n",
      "\u001b[1;31mKeyboardInterrupt\u001b[0m: "
     ]
    }
   ],
   "source": [
    "# evolution strategy (mu + lambda) of the ackley objective function\n",
    "from numpy import asarray\n",
    "from numpy import exp\n",
    "from numpy import sqrt\n",
    "from numpy import cos\n",
    "from numpy import e\n",
    "from numpy import pi\n",
    "from numpy import argsort\n",
    "from numpy.random import randn\n",
    "from numpy.random import rand\n",
    "from numpy.random import seed\n",
    "import numpy as np\n",
    "from tqdm import tqdm\n",
    "\n",
    "# objective function\n",
    "def objective(v):\n",
    "\t#x, y = v\n",
    "\t#return -20.0 * exp(-0.2 * sqrt(0.5 * (x**2 + y**2))) - exp(0.5 * (cos(2 * pi * x) + cos(2 * pi * y))) + e + 20\n",
    "\tv = np.array(v)  #transform to numpy array\n",
    "\treturn np.sum(v*v)\n",
    "\n",
    "# check if a point is within the bounds of the search\n",
    "def in_bounds(point, bounds):\n",
    "\t# enumerate all dimensions of the point\n",
    "\tfor d in range(len(bounds)):\n",
    "\t\t# check if out of bounds for this dimension\n",
    "\t\tif point[d] < bounds[d, 0] or point[d] > bounds[d, 1]:\n",
    "\t\t\treturn False\n",
    "\treturn True\n",
    "\n",
    "# evolution strategy (mu, lambda) algorithm\n",
    "def es_comma(objective, bounds, n_iter, step_size, mu, lam, initial_population, stop_criterium):\n",
    "\tbest, best_eval = None, 1e+10\n",
    "\t# calculate the number of children per parent\n",
    "\tn_children = int(lam / mu)\n",
    "\t# initial population\n",
    "\tpopulation = list()\n",
    "\t#for _ in range(lam):\n",
    "\t#\tcandidate = None\n",
    "\t#\twhile candidate is None or not in_bounds(candidate, bounds):\n",
    "\t#\t\tcandidate = bounds[:, 0] + rand(len(bounds)) * (bounds[:, 1] - bounds[:, 0])\n",
    "\t#\tpopulation.append(candidate)\n",
    "\n",
    "\tpopulation = initial_population\n",
    "\n",
    "\t# perform the search\n",
    "\tfor epoch in tqdm(range(n_iter), desc=\"Progress: \"):\n",
    "\t\t# evaluate fitness for the population\n",
    "\t\tscores = [objective(c) for c in population]\n",
    "\t\t# rank scores in ascending order\n",
    "\t\tranks = argsort(argsort(scores))\n",
    "\t\t# select the indexes for the top mu ranked solutions\n",
    "\t\tselected = [i for i,_ in enumerate(ranks) if ranks[i] < mu]\n",
    "\t\t# create children from parents\n",
    "\t\tchildren = list()\n",
    "\t\tfor i in selected:\n",
    "\t\t\t# check if this parent is the best solution ever seen\n",
    "\t\t\tif scores[i] < best_eval:\n",
    "\t\t\t\tbest, best_eval = population[i], scores[i]\n",
    "\t\t\t\t#print('%d, Best: f(%s) = %.5f' % (epoch, best, best_eval))\n",
    "\t\t\t\tif best_eval <= stop_criterium:\n",
    "\t\t\t\t\tprint(\"Stop criterium reached. Stopping the algorithm.\")\n",
    "\t\t\t\t\treturn [best, best_eval, epoch]\n",
    "\t\t\t# keep the parent\n",
    "\t\t\tchildren.append(population[i])\n",
    "\t\t\t# create children for parent\n",
    "\t\t\tfor _ in range(n_children):\n",
    "\t\t\t\tchild = None\n",
    "\t\t\t\twhile child is None or not in_bounds(child, bounds):\n",
    "\t\t\t\t\tchild = population[i] + randn(len(bounds)) * step_size\n",
    "\t\t\t\tchildren.append(child)\n",
    "\t\t# replace population with children\n",
    "\t\tpopulation = children\n",
    "\treturn [best, best_eval, n_iter]\n",
    "\n",
    "\n",
    "# seed the pseudorandom number generator\n",
    "seed(1)\n",
    "# define range for input\n",
    "bounds = asarray([[-1000000, 1000000], [-1000000, 1000000], [-1000000, 1000000], [-1000000, 1000000], [-1000000, 1000000], [-1000000, 1000000], [-1000000, 1000000], [-1000000, 1000000], [-1000000, 1000000], [-1000000, 1000000]])\n",
    "# define the total iterations\n",
    "n_iter = 10000000\n",
    "# define the maximum step size\n",
    "step_size = 1\n",
    "# number of parents selected\n",
    "mu = 1\n",
    "# the number of children generated by parents\n",
    "lam = 1\n",
    "# create the initial population\n",
    "genome_length = 10 \n",
    "initial_population = np.ones((1,genome_length)).tolist()\n",
    "# stop criterium\n",
    "stop_criterium = 0.005\n",
    "# perform the evolution strategy (mu, lambda) search\n",
    "\n",
    "data = list()\n",
    "for run in range(10):\n",
    "\tbest, score, n_iters = es_comma(objective, bounds, n_iter, step_size, mu, lam, initial_population, stop_criterium)\n",
    "\tprint('f(%s) = %f' % (best, score))\n",
    "\tdata.append([best, score, n_iters])\n",
    "\n",
    "print('Done!')\n",
    "print(data)"
   ]
  },
  {
   "cell_type": "markdown",
   "metadata": {},
   "source": [
    "HW2 - 5. Repeat problem 3 with uncorrelated Gaussian mutation with n step-sizes. Use the step-sizes specified for each condition in problem 3 as the starting step-sizes. Decide your own Tau, Tau' and Epsilon_0 for mutating the individual:\n",
    "a) (1,1)-ES with n step sizes for Gaussian mutation. sigma=0.01, 0.1, and 1.0"
   ]
  },
  {
   "cell_type": "code",
   "execution_count": 17,
   "metadata": {},
   "outputs": [
    {
     "name": "stderr",
     "output_type": "stream",
     "text": [
      "Progress:  46%|████▋     | 4626730/10000000 [15:47<18:20, 4880.58it/s] \n"
     ]
    },
    {
     "ename": "ValueError",
     "evalue": "operands could not be broadcast together with shapes (0,) (10,) () ",
     "output_type": "error",
     "traceback": [
      "\u001b[1;31m---------------------------------------------------------------------------\u001b[0m",
      "\u001b[1;31mValueError\u001b[0m                                Traceback (most recent call last)",
      "\u001b[1;32mc:\\Users\\eduan\\Documents\\Personal Coding Projects\\NYCU_Evolutionary_Computation\\homework2_notebook.ipynb Cell 6\u001b[0m in \u001b[0;36m<cell line: 116>\u001b[1;34m()\u001b[0m\n\u001b[0;32m    <a href='vscode-notebook-cell:/c%3A/Users/eduan/Documents/Personal%20Coding%20Projects/NYCU_Evolutionary_Computation/homework2_notebook.ipynb#X10sZmlsZQ%3D%3D?line=114'>115</a>\u001b[0m data \u001b[39m=\u001b[39m \u001b[39mlist\u001b[39m()\n\u001b[0;32m    <a href='vscode-notebook-cell:/c%3A/Users/eduan/Documents/Personal%20Coding%20Projects/NYCU_Evolutionary_Computation/homework2_notebook.ipynb#X10sZmlsZQ%3D%3D?line=115'>116</a>\u001b[0m \u001b[39mfor\u001b[39;00m run \u001b[39min\u001b[39;00m \u001b[39mrange\u001b[39m(\u001b[39m10\u001b[39m):\n\u001b[1;32m--> <a href='vscode-notebook-cell:/c%3A/Users/eduan/Documents/Personal%20Coding%20Projects/NYCU_Evolutionary_Computation/homework2_notebook.ipynb#X10sZmlsZQ%3D%3D?line=116'>117</a>\u001b[0m \tbest, score, n_iters \u001b[39m=\u001b[39m es_comma(objective, bounds, n_iter, step_size, mu, lam, initial_population, stop_criterium, n_step_params)\n\u001b[0;32m    <a href='vscode-notebook-cell:/c%3A/Users/eduan/Documents/Personal%20Coding%20Projects/NYCU_Evolutionary_Computation/homework2_notebook.ipynb#X10sZmlsZQ%3D%3D?line=117'>118</a>\u001b[0m \t\u001b[39mprint\u001b[39m(\u001b[39m'\u001b[39m\u001b[39mf(\u001b[39m\u001b[39m%s\u001b[39;00m\u001b[39m) = \u001b[39m\u001b[39m%f\u001b[39;00m\u001b[39m'\u001b[39m \u001b[39m%\u001b[39m (best, score))\n\u001b[0;32m    <a href='vscode-notebook-cell:/c%3A/Users/eduan/Documents/Personal%20Coding%20Projects/NYCU_Evolutionary_Computation/homework2_notebook.ipynb#X10sZmlsZQ%3D%3D?line=118'>119</a>\u001b[0m \tdata\u001b[39m.\u001b[39mappend([best, score, n_iters])\n",
      "\u001b[1;32mc:\\Users\\eduan\\Documents\\Personal Coding Projects\\NYCU_Evolutionary_Computation\\homework2_notebook.ipynb Cell 6\u001b[0m in \u001b[0;36mes_comma\u001b[1;34m(objective, bounds, n_iter, step_size, mu, lam, initial_population, stop_criterium, n_step_params)\u001b[0m\n\u001b[0;32m     <a href='vscode-notebook-cell:/c%3A/Users/eduan/Documents/Personal%20Coding%20Projects/NYCU_Evolutionary_Computation/homework2_notebook.ipynb#X10sZmlsZQ%3D%3D?line=78'>79</a>\u001b[0m \tcommon_n \u001b[39m=\u001b[39m N()  \u001b[39m# this is the N that is shared for all i's \u001b[39;00m\n\u001b[0;32m     <a href='vscode-notebook-cell:/c%3A/Users/eduan/Documents/Personal%20Coding%20Projects/NYCU_Evolutionary_Computation/homework2_notebook.ipynb#X10sZmlsZQ%3D%3D?line=79'>80</a>\u001b[0m \tsigma_prime \u001b[39m=\u001b[39m np\u001b[39m.\u001b[39mmultiply(step_size, np\u001b[39m.\u001b[39mexp(tau_prime\u001b[39m*\u001b[39mcommon_n \u001b[39m+\u001b[39m tau\u001b[39m*\u001b[39mN()))\n\u001b[1;32m---> <a href='vscode-notebook-cell:/c%3A/Users/eduan/Documents/Personal%20Coding%20Projects/NYCU_Evolutionary_Computation/homework2_notebook.ipynb#X10sZmlsZQ%3D%3D?line=80'>81</a>\u001b[0m \tsigma_prime \u001b[39m=\u001b[39m np\u001b[39m.\u001b[39;49mwhere(sigma_prime[sigma_prime\u001b[39m>\u001b[39;49m\u001b[39m=\u001b[39;49mepsilon_0], sigma_prime, epsilon_0)  \u001b[39m# replace with epsilon_0 if the condition is met\u001b[39;00m\n\u001b[0;32m     <a href='vscode-notebook-cell:/c%3A/Users/eduan/Documents/Personal%20Coding%20Projects/NYCU_Evolutionary_Computation/homework2_notebook.ipynb#X10sZmlsZQ%3D%3D?line=81'>82</a>\u001b[0m \tchild \u001b[39m=\u001b[39m population[i] \u001b[39m+\u001b[39m sigma_prime \u001b[39m*\u001b[39m N(size\u001b[39m=\u001b[39m\u001b[39mlen\u001b[39m(bounds))\n\u001b[0;32m     <a href='vscode-notebook-cell:/c%3A/Users/eduan/Documents/Personal%20Coding%20Projects/NYCU_Evolutionary_Computation/homework2_notebook.ipynb#X10sZmlsZQ%3D%3D?line=82'>83</a>\u001b[0m children\u001b[39m.\u001b[39mappend(child)\n",
      "File \u001b[1;32m<__array_function__ internals>:180\u001b[0m, in \u001b[0;36mwhere\u001b[1;34m(*args, **kwargs)\u001b[0m\n",
      "\u001b[1;31mValueError\u001b[0m: operands could not be broadcast together with shapes (0,) (10,) () "
     ]
    }
   ],
   "source": [
    "# evolution strategy (mu, lambda) of the ackley objective function\n",
    "from numpy import asarray\n",
    "from numpy import exp\n",
    "from numpy import sqrt\n",
    "from numpy import cos\n",
    "from numpy import e\n",
    "from numpy import pi\n",
    "from numpy import argsort\n",
    "from numpy.random import randn\n",
    "from numpy.random import rand\n",
    "from numpy.random import seed\n",
    "import numpy as np\n",
    "from tqdm import tqdm\n",
    "\n",
    "# objective function\n",
    "def objective(v):\n",
    "\t#x, y = v\n",
    "\t#return -20.0 * exp(-0.2 * sqrt(0.5 * (x**2 + y**2))) - exp(0.5 * (cos(2 * pi * x) + cos(2 * pi * y))) + e + 20\n",
    "\tv = np.array(v)  #transform to numpy array\n",
    "\treturn np.sum(v*v)\n",
    "\n",
    "def N(mu=0, sigma=1, size=1):   # defaults to N(0,1)\n",
    "\tif size == 1: \n",
    "\t\treturn float(sigma * randn(size) + mu)\n",
    "\telse: \n",
    "\t\treturn sigma * randn(size) + mu\n",
    "\t\n",
    "\n",
    "# check if a point is within the bounds of the search\n",
    "def in_bounds(point, bounds):\n",
    "\t# enumerate all dimensions of the point\n",
    "\tfor d in range(len(bounds)):\n",
    "\t\t# check if out of bounds for this dimension\n",
    "\t\tif point[d] < bounds[d, 0] or point[d] > bounds[d, 1]:\n",
    "\t\t\treturn False\n",
    "\treturn True\n",
    "\n",
    "# evolution strategy (mu, lambda) algorithm\n",
    "def es_comma(objective, bounds, n_iter: int, step_size: list, mu, lam, initial_population: list, stop_criterium, n_step_params: list):\n",
    "\tbest, best_eval = None, 1e+10\n",
    "\t# calculate the number of children per parent\n",
    "\tn_children = int(lam / mu)\n",
    "\t# initial population\n",
    "\tpopulation = list()\n",
    "\t#for _ in range(lam):\n",
    "\t#\tcandidate = None\n",
    "\t#\twhile candidate is None or not in_bounds(candidate, bounds):\n",
    "\t#\t\tcandidate = bounds[:, 0] + rand(len(bounds)) * (bounds[:, 1] - bounds[:, 0])\n",
    "\t#\tpopulation.append(candidate)\n",
    "\n",
    "\tpopulation = initial_population\n",
    "\n",
    "\t# unpack n-search-params\n",
    "\ttau_prime, tau, epsilon_0 = n_step_params\n",
    "\t\n",
    "\t# perform the search\n",
    "\tfor epoch in tqdm(range(n_iter), desc=\"Progress: \"):\n",
    "\t\t# evaluate fitness for the population\n",
    "\t\tscores = [objective(c) for c in population]\n",
    "\t\t# rank scores in ascending order\n",
    "\t\tranks = argsort(argsort(scores))\n",
    "\t\t# select the indexes for the top mu ranked solutions\n",
    "\t\tselected = [i for i,_ in enumerate(ranks) if ranks[i] < mu]\n",
    "\t\t# create children from parents\n",
    "\t\tchildren = list()\n",
    "\t\tfor i in selected:\n",
    "\t\t\t# check if this parent is the best solution ever seen\n",
    "\t\t\tif scores[i] < best_eval:\n",
    "\t\t\t\tbest, best_eval = population[i], scores[i]\n",
    "\t\t\t\t#print('%d, Best: f(%s) = %.5f' % (epoch, best, best_eval))\n",
    "\t\t\t\tif best_eval <= stop_criterium:\n",
    "\t\t\t\t\tprint(\"Stop criterium reached. Stopping the algorithm.\")\n",
    "\t\t\t\t\treturn [best, best_eval, epoch]\n",
    "\t\t\t# create children for parent\n",
    "\t\t\tfor _ in range(n_children):\n",
    "\t\t\t\tchild = None\n",
    "\t\t\t\twhile child is None or not in_bounds(child, bounds):\n",
    "\t\t\t\t\t#child = population[i] + randn(len(bounds)) * step_size\n",
    "\t\t\t\t\tcommon_n = N()  # this is the N that is shared for all i's \n",
    "\t\t\t\t\tsigma_prime = np.multiply(step_size, np.exp(tau_prime*common_n + tau*N()))\n",
    "\t\t\t\t\tsigma_prime = np.where(sigma_prime[sigma_prime>=epsilon_0], sigma_prime, epsilon_0)  # replace with epsilon_0 if the condition is met\n",
    "\t\t\t\t\tchild = population[i] + sigma_prime * N(size=len(bounds))\n",
    "\t\t\t\tchildren.append(child)\n",
    "\n",
    "\t\t# replace population with children\n",
    "\t\tpopulation = children\n",
    "\treturn [best, best_eval, n_iter]\n",
    "\n",
    "\n",
    "# seed the pseudorandom number generator\n",
    "seed(1)\n",
    "# define range for input\n",
    "bounds = asarray([[-10, 10], [-10, 10], [-10, 10], [-10, 10], [-10, 10], [-10, 10], [-10, 10], [-10, 10], [-10, 10], [-10, 10]])\n",
    "# define the total iterations\n",
    "n_iter = 10000000\n",
    "# define the maximum step size\n",
    "step_size = 0.01\n",
    "# number of parents selected\n",
    "mu = 1\n",
    "# the number of children generated by parents\n",
    "lam = 1\n",
    "# create the initial population\n",
    "genome_length = 10 \n",
    "initial_population = np.ones((1,genome_length)).tolist()\n",
    "# additional parameters for n-step-sizes, see slides for more info\n",
    "tau_prime = 1/sqrt(2*genome_length)\n",
    "tau = 1/(sqrt(2*sqrt(genome_length)))\n",
    "epsilon_0 = 0.001  # minimum step size\n",
    "n_step_params = [tau_prime, tau, epsilon_0]\n",
    "\n",
    "step_size = np.full((1,genome_length), step_size).tolist()[0]  # convert the step_size to an array of identical values\n",
    "# stop criterium\n",
    "stop_criterium = 0.005\n",
    "# perform the evolution strategy (mu, lambda) search\n",
    "data = list()\n",
    "for run in range(10):\n",
    "\tbest, score, n_iters = es_comma(objective, bounds, n_iter, step_size, mu, lam, initial_population, stop_criterium, n_step_params)\n",
    "\tprint('f(%s) = %f' % (best, score))\n",
    "\tdata.append([best, score, n_iters])\n",
    "\n",
    "print('Done!')\n",
    "print(data)\n"
   ]
  },
  {
   "cell_type": "markdown",
   "metadata": {},
   "source": [
    "b) (1+1)-ES with n step sizes for Gaussian mutation. sigma=0.01, 0.1, and 1.0"
   ]
  },
  {
   "cell_type": "code",
   "execution_count": 16,
   "metadata": {},
   "outputs": [
    {
     "name": "stderr",
     "output_type": "stream",
     "text": [
      "Progress: 100%|██████████| 10000000/10000000 [38:38<00:00, 4312.90it/s]\n"
     ]
    },
    {
     "name": "stdout",
     "output_type": "stream",
     "text": [
      "f([-0.01063713 -0.00255388 -0.07212321 -0.0432329   0.05907678 -0.05107508\n",
      "  0.06707354 -0.05630774 -0.07932579  0.08369427]) = 0.034256\n"
     ]
    },
    {
     "name": "stderr",
     "output_type": "stream",
     "text": [
      "Progress:   5%|▌         | 544437/10000000 [02:06<36:34, 4309.18it/s]  \n"
     ]
    },
    {
     "ename": "KeyboardInterrupt",
     "evalue": "",
     "output_type": "error",
     "traceback": [
      "\u001b[1;31m---------------------------------------------------------------------------\u001b[0m",
      "\u001b[1;31mKeyboardInterrupt\u001b[0m                         Traceback (most recent call last)",
      "\u001b[1;32mc:\\Users\\eduan\\Documents\\Personal Coding Projects\\NYCU_Evolutionary_Computation\\homework2_notebook.ipynb Cell 8\u001b[0m in \u001b[0;36m<cell line: 118>\u001b[1;34m()\u001b[0m\n\u001b[0;32m    <a href='vscode-notebook-cell:/c%3A/Users/eduan/Documents/Personal%20Coding%20Projects/NYCU_Evolutionary_Computation/homework2_notebook.ipynb#X11sZmlsZQ%3D%3D?line=116'>117</a>\u001b[0m data \u001b[39m=\u001b[39m \u001b[39mlist\u001b[39m()\n\u001b[0;32m    <a href='vscode-notebook-cell:/c%3A/Users/eduan/Documents/Personal%20Coding%20Projects/NYCU_Evolutionary_Computation/homework2_notebook.ipynb#X11sZmlsZQ%3D%3D?line=117'>118</a>\u001b[0m \u001b[39mfor\u001b[39;00m run \u001b[39min\u001b[39;00m \u001b[39mrange\u001b[39m(\u001b[39m10\u001b[39m):\n\u001b[1;32m--> <a href='vscode-notebook-cell:/c%3A/Users/eduan/Documents/Personal%20Coding%20Projects/NYCU_Evolutionary_Computation/homework2_notebook.ipynb#X11sZmlsZQ%3D%3D?line=118'>119</a>\u001b[0m \tbest, score, n_iters \u001b[39m=\u001b[39m es_comma(objective, bounds, n_iter, step_size, mu, lam, initial_population, stop_criterium, n_step_params)\n\u001b[0;32m    <a href='vscode-notebook-cell:/c%3A/Users/eduan/Documents/Personal%20Coding%20Projects/NYCU_Evolutionary_Computation/homework2_notebook.ipynb#X11sZmlsZQ%3D%3D?line=119'>120</a>\u001b[0m \t\u001b[39mprint\u001b[39m(\u001b[39m'\u001b[39m\u001b[39mf(\u001b[39m\u001b[39m%s\u001b[39;00m\u001b[39m) = \u001b[39m\u001b[39m%f\u001b[39;00m\u001b[39m'\u001b[39m \u001b[39m%\u001b[39m (best, score))\n\u001b[0;32m    <a href='vscode-notebook-cell:/c%3A/Users/eduan/Documents/Personal%20Coding%20Projects/NYCU_Evolutionary_Computation/homework2_notebook.ipynb#X11sZmlsZQ%3D%3D?line=120'>121</a>\u001b[0m \tdata\u001b[39m.\u001b[39mappend([best, score, n_iters])\n",
      "\u001b[1;32mc:\\Users\\eduan\\Documents\\Personal Coding Projects\\NYCU_Evolutionary_Computation\\homework2_notebook.ipynb Cell 8\u001b[0m in \u001b[0;36mes_comma\u001b[1;34m(objective, bounds, n_iter, step_size, mu, lam, initial_population, stop_criterium, n_step_params)\u001b[0m\n\u001b[0;32m     <a href='vscode-notebook-cell:/c%3A/Users/eduan/Documents/Personal%20Coding%20Projects/NYCU_Evolutionary_Computation/homework2_notebook.ipynb#X11sZmlsZQ%3D%3D?line=78'>79</a>\u001b[0m \u001b[39mwhile\u001b[39;00m child \u001b[39mis\u001b[39;00m \u001b[39mNone\u001b[39;00m \u001b[39mor\u001b[39;00m \u001b[39mnot\u001b[39;00m in_bounds(child, bounds):\n\u001b[0;32m     <a href='vscode-notebook-cell:/c%3A/Users/eduan/Documents/Personal%20Coding%20Projects/NYCU_Evolutionary_Computation/homework2_notebook.ipynb#X11sZmlsZQ%3D%3D?line=79'>80</a>\u001b[0m \t\u001b[39m#child = population[i] + randn(len(bounds)) * step_size\u001b[39;00m\n\u001b[0;32m     <a href='vscode-notebook-cell:/c%3A/Users/eduan/Documents/Personal%20Coding%20Projects/NYCU_Evolutionary_Computation/homework2_notebook.ipynb#X11sZmlsZQ%3D%3D?line=80'>81</a>\u001b[0m \tcommon_n \u001b[39m=\u001b[39m N()  \u001b[39m# this is the N that is shared for all i's \u001b[39;00m\n\u001b[1;32m---> <a href='vscode-notebook-cell:/c%3A/Users/eduan/Documents/Personal%20Coding%20Projects/NYCU_Evolutionary_Computation/homework2_notebook.ipynb#X11sZmlsZQ%3D%3D?line=81'>82</a>\u001b[0m \tsigma_prime \u001b[39m=\u001b[39m np\u001b[39m.\u001b[39;49mmultiply(step_size, np\u001b[39m.\u001b[39;49mexp(tau_prime\u001b[39m*\u001b[39;49mcommon_n \u001b[39m+\u001b[39;49m tau\u001b[39m*\u001b[39;49mN()))\n\u001b[0;32m     <a href='vscode-notebook-cell:/c%3A/Users/eduan/Documents/Personal%20Coding%20Projects/NYCU_Evolutionary_Computation/homework2_notebook.ipynb#X11sZmlsZQ%3D%3D?line=82'>83</a>\u001b[0m \tsigma_prime \u001b[39m=\u001b[39m np\u001b[39m.\u001b[39mwhere(sigma_prime[sigma_prime\u001b[39m>\u001b[39m\u001b[39m=\u001b[39mepsilon_0], sigma_prime, epsilon_0)  \u001b[39m# replace with epsilon_0 if the condition is met\u001b[39;00m\n\u001b[0;32m     <a href='vscode-notebook-cell:/c%3A/Users/eduan/Documents/Personal%20Coding%20Projects/NYCU_Evolutionary_Computation/homework2_notebook.ipynb#X11sZmlsZQ%3D%3D?line=83'>84</a>\u001b[0m \tchild \u001b[39m=\u001b[39m population[i] \u001b[39m+\u001b[39m sigma_prime \u001b[39m*\u001b[39m N(size\u001b[39m=\u001b[39m\u001b[39mlen\u001b[39m(bounds))\n",
      "\u001b[1;31mKeyboardInterrupt\u001b[0m: "
     ]
    }
   ],
   "source": [
    "# evolution strategy (mu + lambda) of the ackley objective function\n",
    "from numpy import asarray\n",
    "from numpy import exp\n",
    "from numpy import sqrt\n",
    "from numpy import cos\n",
    "from numpy import e\n",
    "from numpy import pi\n",
    "from numpy import argsort\n",
    "from numpy.random import randn\n",
    "from numpy.random import rand\n",
    "from numpy.random import seed\n",
    "import numpy as np\n",
    "from tqdm import tqdm\n",
    "\n",
    "# objective function\n",
    "def objective(v):\n",
    "\t#x, y = v\n",
    "\t#return -20.0 * exp(-0.2 * sqrt(0.5 * (x**2 + y**2))) - exp(0.5 * (cos(2 * pi * x) + cos(2 * pi * y))) + e + 20\n",
    "\tv = np.array(v)  #transform to numpy array\n",
    "\treturn np.sum(v*v)\n",
    "\n",
    "\n",
    "def N(mu=0, sigma=1, size=1): \n",
    "\tif size == 1: \n",
    "\t\treturn float(sigma * randn(size) + mu)\n",
    "\telse: \n",
    "\t\treturn sigma * randn(size) + mu\n",
    "\n",
    "# check if a point is within the bounds of the search\n",
    "def in_bounds(point, bounds):\n",
    "\t# enumerate all dimensions of the point\n",
    "\tfor d in range(len(bounds)):\n",
    "\t\t# check if out of bounds for this dimension\n",
    "\t\tif point[d] < bounds[d, 0] or point[d] > bounds[d, 1]:\n",
    "\t\t\treturn False\n",
    "\treturn True\n",
    "\n",
    "# evolution strategy (mu, lambda) algorithm\n",
    "def es_comma(objective, bounds, n_iter: int, step_size, mu, lam, initial_population: list, stop_criterium, n_step_params: list):\n",
    "\tbest, best_eval = None, 1e+10\n",
    "\t# calculate the number of children per parent\n",
    "\tn_children = int(lam / mu)\n",
    "\t# initial population\n",
    "\tpopulation = list()\n",
    "\t#for _ in range(lam):\n",
    "\t#\tcandidate = None\n",
    "\t#\twhile candidate is None or not in_bounds(candidate, bounds):\n",
    "\t#\t\tcandidate = bounds[:, 0] + rand(len(bounds)) * (bounds[:, 1] - bounds[:, 0])\n",
    "\t#\tpopulation.append(candidate)\n",
    "\n",
    "\tpopulation = initial_population\n",
    "\t\n",
    "\t# unpack n-search-params\n",
    "\ttau_prime, tau, epsilon_0 = n_step_params\n",
    "\t\n",
    "\t# perform the search\n",
    "\tfor epoch in tqdm(range(n_iter), desc=\"Progress: \"):\n",
    "\t\t# evaluate fitness for the population\n",
    "\t\tscores = [objective(c) for c in population]\n",
    "\t\t# rank scores in ascending order\n",
    "\t\tranks = argsort(argsort(scores))\n",
    "\t\t# select the indexes for the top mu ranked solutions\n",
    "\t\tselected = [i for i,_ in enumerate(ranks) if ranks[i] < mu]\n",
    "\t\t# create children from parents\n",
    "\t\tchildren = list()\n",
    "\t\tfor i in selected:\n",
    "\t\t\t# check if this parent is the best solution ever seen\n",
    "\t\t\tif scores[i] < best_eval:\n",
    "\t\t\t\tbest, best_eval = population[i], scores[i]\n",
    "\t\t\t\t#print('%d, Best: f(%s) = %.5f' % (epoch, best, best_eval))\n",
    "\t\t\t\tif best_eval <= stop_criterium:\n",
    "\t\t\t\t\tprint(\"Stop criterium reached. Stopping the algorithm.\")\n",
    "\t\t\t\t\treturn [best, best_eval, epoch]\n",
    "\t\t\t# keep the parent\n",
    "\t\t\tchildren.append(population[i])\n",
    "\t\t\t# create children for parent\n",
    "\t\t\tfor _ in range(n_children):\n",
    "\t\t\t\tchild = None\n",
    "\t\t\t\twhile child is None or not in_bounds(child, bounds):\n",
    "\t\t\t\t\t#child = population[i] + randn(len(bounds)) * step_size\n",
    "\t\t\t\t\tcommon_n = N()  # this is the N that is shared for all i's \n",
    "\t\t\t\t\tsigma_prime = np.multiply(step_size, np.exp(tau_prime*common_n + tau*N()))\n",
    "\t\t\t\t\tsigma_prime = np.where(sigma_prime[sigma_prime>=epsilon_0], sigma_prime, epsilon_0)  # replace with epsilon_0 if the condition is met\n",
    "\t\t\t\t\tchild = population[i] + sigma_prime * N(size=len(bounds))\n",
    "\t\t\t\tchildren.append(child)\n",
    "\t\t# replace population with children\n",
    "\t\tpopulation = children\n",
    "\treturn [best, best_eval, n_iter]\n",
    "\n",
    "\n",
    "# seed the pseudorandom number generator\n",
    "seed(1)\n",
    "# define range for input\n",
    "bounds = asarray([[-1000000, 1000000], [-1000000, 1000000], [-1000000, 1000000], [-1000000, 1000000], [-1000000, 1000000], [-1000000, 1000000], [-1000000, 1000000], [-1000000, 1000000], [-1000000, 1000000], [-1000000, 1000000]])\n",
    "# define the total iterations\n",
    "n_iter = 10000000\n",
    "# define the maximum step size\n",
    "step_size = 1\n",
    "# number of parents selected\n",
    "mu = 1\n",
    "# the number of children generated by parents\n",
    "lam = 1\n",
    "# create the initial population\n",
    "genome_length = 10 \n",
    "initial_population = np.ones((1,genome_length)).tolist()\n",
    "# additional parameters for n-step-sizes, see slides for more info\n",
    "tau_prime = 1/sqrt(2*genome_length)\n",
    "tau = 1/(sqrt(2*sqrt(genome_length)))\n",
    "epsilon_0 = 0.001  # minimum step size\n",
    "n_step_params = [tau_prime, tau, epsilon_0]\n",
    "\n",
    "step_size = np.full((1,genome_length), step_size).tolist()[0]  # convert the step_size to an array of identical values\n",
    "# stop criterium\n",
    "stop_criterium = 0.005\n",
    "# perform the evolution strategy (mu, lambda) search\n",
    "\n",
    "data = list()\n",
    "for run in range(10):\n",
    "\tbest, score, n_iters = es_comma(objective, bounds, n_iter, step_size, mu, lam, initial_population, stop_criterium, n_step_params)\n",
    "\tprint('f(%s) = %f' % (best, score))\n",
    "\tdata.append([best, score, n_iters])\n",
    "\n",
    "print('Done!')\n",
    "print(data)"
   ]
  },
  {
   "cell_type": "markdown",
   "metadata": {},
   "source": [
    "HW2 - 7. Repeat problem 3 with the 1/5 rule. Use the step-sizes specified for each condition in problem 3 as the starting step-sizes. Decide your own G and a for using the 1/5:\n",
    "a) (1,1)-ES with n step sizes for Gaussian mutation. sigma=0.01, 0.1, and 1.0"
   ]
  },
  {
   "cell_type": "code",
   "execution_count": 18,
   "metadata": {},
   "outputs": [
    {
     "name": "stderr",
     "output_type": "stream",
     "text": [
      "Progress:   2%|▏         | 225727/10000000 [00:31<23:04, 7057.68it/s]\n"
     ]
    },
    {
     "ename": "KeyboardInterrupt",
     "evalue": "",
     "output_type": "error",
     "traceback": [
      "\u001b[1;31m---------------------------------------------------------------------------\u001b[0m",
      "\u001b[1;31mKeyboardInterrupt\u001b[0m                         Traceback (most recent call last)",
      "\u001b[1;32mc:\\Users\\eduan\\Documents\\Personal Coding Projects\\NYCU_Evolutionary_Computation\\homework2_notebook.ipynb Cell 10\u001b[0m in \u001b[0;36m<cell line: 118>\u001b[1;34m()\u001b[0m\n\u001b[0;32m    <a href='vscode-notebook-cell:/c%3A/Users/eduan/Documents/Personal%20Coding%20Projects/NYCU_Evolutionary_Computation/homework2_notebook.ipynb#X14sZmlsZQ%3D%3D?line=116'>117</a>\u001b[0m data \u001b[39m=\u001b[39m \u001b[39mlist\u001b[39m()\n\u001b[0;32m    <a href='vscode-notebook-cell:/c%3A/Users/eduan/Documents/Personal%20Coding%20Projects/NYCU_Evolutionary_Computation/homework2_notebook.ipynb#X14sZmlsZQ%3D%3D?line=117'>118</a>\u001b[0m \u001b[39mfor\u001b[39;00m run \u001b[39min\u001b[39;00m \u001b[39mrange\u001b[39m(\u001b[39m10\u001b[39m):\n\u001b[1;32m--> <a href='vscode-notebook-cell:/c%3A/Users/eduan/Documents/Personal%20Coding%20Projects/NYCU_Evolutionary_Computation/homework2_notebook.ipynb#X14sZmlsZQ%3D%3D?line=118'>119</a>\u001b[0m \tbest, score, n_iters \u001b[39m=\u001b[39m es_comma(objective, bounds, n_iter, step_size, mu, lam, initial_population, stop_criterium, one_fifth_params)\n\u001b[0;32m    <a href='vscode-notebook-cell:/c%3A/Users/eduan/Documents/Personal%20Coding%20Projects/NYCU_Evolutionary_Computation/homework2_notebook.ipynb#X14sZmlsZQ%3D%3D?line=119'>120</a>\u001b[0m \t\u001b[39mprint\u001b[39m(\u001b[39m'\u001b[39m\u001b[39mf(\u001b[39m\u001b[39m%s\u001b[39;00m\u001b[39m) = \u001b[39m\u001b[39m%f\u001b[39;00m\u001b[39m'\u001b[39m \u001b[39m%\u001b[39m (best, score))\n\u001b[0;32m    <a href='vscode-notebook-cell:/c%3A/Users/eduan/Documents/Personal%20Coding%20Projects/NYCU_Evolutionary_Computation/homework2_notebook.ipynb#X14sZmlsZQ%3D%3D?line=120'>121</a>\u001b[0m \tdata\u001b[39m.\u001b[39mappend([best, score, n_iters])\n",
      "\u001b[1;32mc:\\Users\\eduan\\Documents\\Personal Coding Projects\\NYCU_Evolutionary_Computation\\homework2_notebook.ipynb Cell 10\u001b[0m in \u001b[0;36mes_comma\u001b[1;34m(objective, bounds, n_iter, step_size, mu, lam, initial_population, stop_criterium, one_fifth_params)\u001b[0m\n\u001b[0;32m     <a href='vscode-notebook-cell:/c%3A/Users/eduan/Documents/Personal%20Coding%20Projects/NYCU_Evolutionary_Computation/homework2_notebook.ipynb#X14sZmlsZQ%3D%3D?line=58'>59</a>\u001b[0m G_s \u001b[39m=\u001b[39m \u001b[39m0\u001b[39m\n\u001b[0;32m     <a href='vscode-notebook-cell:/c%3A/Users/eduan/Documents/Personal%20Coding%20Projects/NYCU_Evolutionary_Computation/homework2_notebook.ipynb#X14sZmlsZQ%3D%3D?line=59'>60</a>\u001b[0m \u001b[39mfor\u001b[39;00m epoch \u001b[39min\u001b[39;00m tqdm(\u001b[39mrange\u001b[39m(n_iter), desc\u001b[39m=\u001b[39m\u001b[39m\"\u001b[39m\u001b[39mProgress: \u001b[39m\u001b[39m\"\u001b[39m):\n\u001b[0;32m     <a href='vscode-notebook-cell:/c%3A/Users/eduan/Documents/Personal%20Coding%20Projects/NYCU_Evolutionary_Computation/homework2_notebook.ipynb#X14sZmlsZQ%3D%3D?line=60'>61</a>\u001b[0m \t\u001b[39m# evaluate fitness for the population\u001b[39;00m\n\u001b[1;32m---> <a href='vscode-notebook-cell:/c%3A/Users/eduan/Documents/Personal%20Coding%20Projects/NYCU_Evolutionary_Computation/homework2_notebook.ipynb#X14sZmlsZQ%3D%3D?line=61'>62</a>\u001b[0m \tscores \u001b[39m=\u001b[39m [objective(c) \u001b[39mfor\u001b[39;00m c \u001b[39min\u001b[39;00m population]\n\u001b[0;32m     <a href='vscode-notebook-cell:/c%3A/Users/eduan/Documents/Personal%20Coding%20Projects/NYCU_Evolutionary_Computation/homework2_notebook.ipynb#X14sZmlsZQ%3D%3D?line=62'>63</a>\u001b[0m \t\u001b[39m# rank scores in ascending order\u001b[39;00m\n\u001b[0;32m     <a href='vscode-notebook-cell:/c%3A/Users/eduan/Documents/Personal%20Coding%20Projects/NYCU_Evolutionary_Computation/homework2_notebook.ipynb#X14sZmlsZQ%3D%3D?line=63'>64</a>\u001b[0m \tranks \u001b[39m=\u001b[39m argsort(argsort(scores))\n",
      "\u001b[1;32mc:\\Users\\eduan\\Documents\\Personal Coding Projects\\NYCU_Evolutionary_Computation\\homework2_notebook.ipynb Cell 10\u001b[0m in \u001b[0;36m<listcomp>\u001b[1;34m(.0)\u001b[0m\n\u001b[0;32m     <a href='vscode-notebook-cell:/c%3A/Users/eduan/Documents/Personal%20Coding%20Projects/NYCU_Evolutionary_Computation/homework2_notebook.ipynb#X14sZmlsZQ%3D%3D?line=58'>59</a>\u001b[0m G_s \u001b[39m=\u001b[39m \u001b[39m0\u001b[39m\n\u001b[0;32m     <a href='vscode-notebook-cell:/c%3A/Users/eduan/Documents/Personal%20Coding%20Projects/NYCU_Evolutionary_Computation/homework2_notebook.ipynb#X14sZmlsZQ%3D%3D?line=59'>60</a>\u001b[0m \u001b[39mfor\u001b[39;00m epoch \u001b[39min\u001b[39;00m tqdm(\u001b[39mrange\u001b[39m(n_iter), desc\u001b[39m=\u001b[39m\u001b[39m\"\u001b[39m\u001b[39mProgress: \u001b[39m\u001b[39m\"\u001b[39m):\n\u001b[0;32m     <a href='vscode-notebook-cell:/c%3A/Users/eduan/Documents/Personal%20Coding%20Projects/NYCU_Evolutionary_Computation/homework2_notebook.ipynb#X14sZmlsZQ%3D%3D?line=60'>61</a>\u001b[0m \t\u001b[39m# evaluate fitness for the population\u001b[39;00m\n\u001b[1;32m---> <a href='vscode-notebook-cell:/c%3A/Users/eduan/Documents/Personal%20Coding%20Projects/NYCU_Evolutionary_Computation/homework2_notebook.ipynb#X14sZmlsZQ%3D%3D?line=61'>62</a>\u001b[0m \tscores \u001b[39m=\u001b[39m [objective(c) \u001b[39mfor\u001b[39;00m c \u001b[39min\u001b[39;00m population]\n\u001b[0;32m     <a href='vscode-notebook-cell:/c%3A/Users/eduan/Documents/Personal%20Coding%20Projects/NYCU_Evolutionary_Computation/homework2_notebook.ipynb#X14sZmlsZQ%3D%3D?line=62'>63</a>\u001b[0m \t\u001b[39m# rank scores in ascending order\u001b[39;00m\n\u001b[0;32m     <a href='vscode-notebook-cell:/c%3A/Users/eduan/Documents/Personal%20Coding%20Projects/NYCU_Evolutionary_Computation/homework2_notebook.ipynb#X14sZmlsZQ%3D%3D?line=63'>64</a>\u001b[0m \tranks \u001b[39m=\u001b[39m argsort(argsort(scores))\n",
      "\u001b[1;32mc:\\Users\\eduan\\Documents\\Personal Coding Projects\\NYCU_Evolutionary_Computation\\homework2_notebook.ipynb Cell 10\u001b[0m in \u001b[0;36mobjective\u001b[1;34m(v)\u001b[0m\n\u001b[0;32m     <a href='vscode-notebook-cell:/c%3A/Users/eduan/Documents/Personal%20Coding%20Projects/NYCU_Evolutionary_Computation/homework2_notebook.ipynb#X14sZmlsZQ%3D%3D?line=15'>16</a>\u001b[0m \u001b[39mdef\u001b[39;00m \u001b[39mobjective\u001b[39m(v):\n\u001b[0;32m     <a href='vscode-notebook-cell:/c%3A/Users/eduan/Documents/Personal%20Coding%20Projects/NYCU_Evolutionary_Computation/homework2_notebook.ipynb#X14sZmlsZQ%3D%3D?line=16'>17</a>\u001b[0m \t\u001b[39m#x, y = v\u001b[39;00m\n\u001b[0;32m     <a href='vscode-notebook-cell:/c%3A/Users/eduan/Documents/Personal%20Coding%20Projects/NYCU_Evolutionary_Computation/homework2_notebook.ipynb#X14sZmlsZQ%3D%3D?line=17'>18</a>\u001b[0m \t\u001b[39m#return -20.0 * exp(-0.2 * sqrt(0.5 * (x**2 + y**2))) - exp(0.5 * (cos(2 * pi * x) + cos(2 * pi * y))) + e + 20\u001b[39;00m\n\u001b[1;32m---> <a href='vscode-notebook-cell:/c%3A/Users/eduan/Documents/Personal%20Coding%20Projects/NYCU_Evolutionary_Computation/homework2_notebook.ipynb#X14sZmlsZQ%3D%3D?line=18'>19</a>\u001b[0m \tv \u001b[39m=\u001b[39m np\u001b[39m.\u001b[39;49marray(v)  \u001b[39m#transform to numpy array\u001b[39;00m\n\u001b[0;32m     <a href='vscode-notebook-cell:/c%3A/Users/eduan/Documents/Personal%20Coding%20Projects/NYCU_Evolutionary_Computation/homework2_notebook.ipynb#X14sZmlsZQ%3D%3D?line=19'>20</a>\u001b[0m \t\u001b[39mreturn\u001b[39;00m np\u001b[39m.\u001b[39msum(v\u001b[39m*\u001b[39mv)\n",
      "\u001b[1;31mKeyboardInterrupt\u001b[0m: "
     ]
    }
   ],
   "source": [
    "# evolution strategy (mu, lambda) of the ackley objective function\n",
    "from numpy import asarray\n",
    "from numpy import exp\n",
    "from numpy import sqrt\n",
    "from numpy import cos\n",
    "from numpy import e\n",
    "from numpy import pi\n",
    "from numpy import argsort\n",
    "from numpy.random import randn\n",
    "from numpy.random import rand\n",
    "from numpy.random import seed\n",
    "import numpy as np\n",
    "from tqdm import tqdm\n",
    "\n",
    "# objective function\n",
    "def objective(v):\n",
    "\t#x, y = v\n",
    "\t#return -20.0 * exp(-0.2 * sqrt(0.5 * (x**2 + y**2))) - exp(0.5 * (cos(2 * pi * x) + cos(2 * pi * y))) + e + 20\n",
    "\tv = np.array(v)  #transform to numpy array\n",
    "\treturn np.sum(v*v)\n",
    "\n",
    "def one_fifth_rule(sigma, a, P_s):\n",
    "\tif P_s > 1/5:\n",
    "\t\treturn sigma/a\n",
    "\telif P_s < 1/5: \n",
    "\t\treturn sigma*a\n",
    "\telse: \n",
    "\t\treturn sigma\n",
    "\n",
    "\n",
    "# check if a point is within the bounds of the search\n",
    "def in_bounds(point, bounds):\n",
    "\t# enumerate all dimensions of the point\n",
    "\tfor d in range(len(bounds)):\n",
    "\t\t# check if out of bounds for this dimension\n",
    "\t\tif point[d] < bounds[d, 0] or point[d] > bounds[d, 1]:\n",
    "\t\t\treturn False\n",
    "\treturn True\n",
    "\n",
    "# evolution strategy (mu, lambda) algorithm\n",
    "def es_comma(objective, bounds, n_iter, step_size, mu, lam, initial_population, stop_criterium, one_fifth_params):\n",
    "\tbest, best_eval = None, 1e+10\n",
    "\t# calculate the number of children per parent\n",
    "\tn_children = int(lam / mu)\n",
    "\t# initial population\n",
    "\tpopulation = list()\n",
    "\t#for _ in range(lam):\n",
    "\t#\tcandidate = None\n",
    "\t#\twhile candidate is None or not in_bounds(candidate, bounds):\n",
    "\t#\t\tcandidate = bounds[:, 0] + rand(len(bounds)) * (bounds[:, 1] - bounds[:, 0])\n",
    "\t#\tpopulation.append(candidate)\n",
    "\n",
    "\tpopulation = initial_population\n",
    "\n",
    "\t# unpack one-fifth rule params\n",
    "\ta, G = one_fifth_params\n",
    "\n",
    "\t# perform the search\n",
    "\tG_s = 0\n",
    "\tfor epoch in tqdm(range(n_iter), desc=\"Progress: \"):\n",
    "\t\t# evaluate fitness for the population\n",
    "\t\tscores = [objective(c) for c in population]\n",
    "\t\t# rank scores in ascending order\n",
    "\t\tranks = argsort(argsort(scores))\n",
    "\t\t# select the indexes for the top mu ranked solutions\n",
    "\t\tselected = [i for i,_ in enumerate(ranks) if ranks[i] < mu]\n",
    "\t\t# create children from parents\n",
    "\t\tchildren = list()\n",
    "\t\tfor i in selected:\n",
    "\t\t\t# check if this parent is the best solution ever seen\n",
    "\t\t\tif scores[i] < best_eval:\n",
    "\t\t\t\tbest, best_eval = population[i], scores[i]\n",
    "\t\t\t\t#print('%d, Best: f(%s) = %.5f' % (epoch, best, best_eval))\n",
    "\t\t\t\tG_s += 1  # count successful mutations\n",
    "\t\t\t\tif best_eval <= stop_criterium:\n",
    "\t\t\t\t\tprint(\"Stop criterium reached. Stopping the algorithm.\")\n",
    "\t\t\t\t\treturn [best, best_eval, epoch]\n",
    "\t\t\t# create children for parent\n",
    "\t\t\tP_s = G_s / G\n",
    "\t\t\tfor _ in range(n_children):\n",
    "\t\t\t\tchild = None\n",
    "\t\t\t\twhile child is None or not in_bounds(child, bounds):\n",
    "\t\t\t\t\tif epoch%G == 0:  # every G generations, allow to adjust the step_size (in the slides, called sigma)\n",
    "\t\t\t\t\t\tstep_size = one_fifth_rule(step_size, a, P_s)\n",
    "\t\t\t\t\t\tG_s = 0\n",
    "\t\t\t\t\tchild = population[i] + randn(len(bounds)) * step_size\n",
    "\t\t\t\tchildren.append(child)\n",
    "\n",
    "\t\t# replace population with children\n",
    "\t\tpopulation = children\n",
    "\treturn [best, best_eval, n_iter]\n",
    "\n",
    "\n",
    "# seed the pseudorandom number generator\n",
    "seed(1)\n",
    "# define range for input\n",
    "bounds = asarray([[-10, 10], [-10, 10], [-10, 10], [-10, 10], [-10, 10], [-10, 10], [-10, 10], [-10, 10], [-10, 10], [-10, 10]])\n",
    "# define the total iterations\n",
    "n_iter = 10000000\n",
    "# define the maximum step size\n",
    "step_size = 0.01\n",
    "# number of parents selected\n",
    "mu = 1\n",
    "# the number of children generated by parents\n",
    "lam = 1\n",
    "# create the initial population\n",
    "genome_length = 10 \n",
    "initial_population = np.ones((1,genome_length)).tolist()\n",
    "# stop criterium\n",
    "stop_criterium = 0.005\n",
    "# one-fifth rule params\n",
    "a = 0.9\n",
    "G = 10\n",
    "one_fifth_params = [a, G]\n",
    "# perform the evolution strategy (mu, lambda) search\n",
    "\n",
    "data = list()\n",
    "for run in range(10):\n",
    "\tbest, score, n_iters = es_comma(objective, bounds, n_iter, step_size, mu, lam, initial_population, stop_criterium, one_fifth_params)\n",
    "\tprint('f(%s) = %f' % (best, score))\n",
    "\tdata.append([best, score, n_iters])\n",
    "\n",
    "print('Done!')\n",
    "print(data)\n"
   ]
  },
  {
   "cell_type": "markdown",
   "metadata": {},
   "source": [
    "b) (1+1)-ES with n step sizes for Gaussian mutation. sigma=0.01, 0.1, and 1.0"
   ]
  },
  {
   "cell_type": "code",
   "execution_count": 21,
   "metadata": {},
   "outputs": [
    {
     "name": "stderr",
     "output_type": "stream",
     "text": [
      "Progress:   0%|          | 394/10000000 [00:00<46:24, 3591.65it/s]\n"
     ]
    },
    {
     "name": "stdout",
     "output_type": "stream",
     "text": [
      "Stop criterium reached. Stopping the algorithm.\n",
      "f([-0.00913477 -0.03994994  0.01003236 -0.00763159  0.00772438 -0.04395363\n",
      " -0.01550445 -0.00884511  0.01673597 -0.01884319]) = 0.004784\n"
     ]
    },
    {
     "name": "stderr",
     "output_type": "stream",
     "text": [
      "Progress:   0%|          | 451/10000000 [00:00<36:07, 4614.35it/s]\n"
     ]
    },
    {
     "name": "stdout",
     "output_type": "stream",
     "text": [
      "Stop criterium reached. Stopping the algorithm.\n",
      "f([-0.02808883  0.03289967 -0.00227291  0.02045894 -0.03386005  0.01317643\n",
      " -0.0151439  -0.02529178 -0.00954079 -0.01454897]) = 0.004787\n"
     ]
    },
    {
     "name": "stderr",
     "output_type": "stream",
     "text": [
      "Progress:   0%|          | 484/10000000 [00:00<39:50, 4183.55it/s]\n"
     ]
    },
    {
     "name": "stdout",
     "output_type": "stream",
     "text": [
      "Stop criterium reached. Stopping the algorithm.\n",
      "f([ 0.01515524 -0.03634403  0.00380734 -0.02505338 -0.03217198 -0.0146528\n",
      " -0.01856117  0.02467741 -0.0042097   0.0061752 ]) = 0.004452\n"
     ]
    },
    {
     "name": "stderr",
     "output_type": "stream",
     "text": [
      "Progress:   0%|          | 400/10000000 [00:00<1:11:53, 2318.44it/s]"
     ]
    },
    {
     "name": "stdout",
     "output_type": "stream",
     "text": [
      "Stop criterium reached. Stopping the algorithm.\n"
     ]
    },
    {
     "name": "stderr",
     "output_type": "stream",
     "text": [
      "\n"
     ]
    },
    {
     "name": "stdout",
     "output_type": "stream",
     "text": [
      "f([-0.01613556  0.02502022 -0.00120788  0.03383999  0.01092718 -0.00761006\n",
      " -0.04459275 -0.00677833  0.00665136  0.0266637 ]) = 0.005000\n"
     ]
    },
    {
     "name": "stderr",
     "output_type": "stream",
     "text": [
      "Progress:   0%|          | 420/10000000 [00:00<58:58, 2826.30it/s]  \n"
     ]
    },
    {
     "name": "stdout",
     "output_type": "stream",
     "text": [
      "Stop criterium reached. Stopping the algorithm.\n",
      "f([-0.01441868 -0.01266771 -0.03365315  0.00744054 -0.00242049  0.04062633\n",
      " -0.02003114  0.00035245  0.01054603  0.00479799]) = 0.003748\n"
     ]
    },
    {
     "name": "stderr",
     "output_type": "stream",
     "text": [
      "Progress:   0%|          | 483/10000000 [00:00<44:44, 3725.35it/s]\n"
     ]
    },
    {
     "name": "stdout",
     "output_type": "stream",
     "text": [
      "Stop criterium reached. Stopping the algorithm.\n",
      "f([-0.01343322  0.03178405  0.02980723 -0.0064371   0.0152285   0.00102071\n",
      " -0.00814961 -0.03141438 -0.01177843 -0.03609477]) = 0.004848\n"
     ]
    },
    {
     "name": "stderr",
     "output_type": "stream",
     "text": [
      "Progress:   0%|          | 449/10000000 [00:00<44:47, 3720.70it/s]\n"
     ]
    },
    {
     "name": "stdout",
     "output_type": "stream",
     "text": [
      "Stop criterium reached. Stopping the algorithm.\n",
      "f([-0.0268625   0.00219288 -0.00387433  0.01238568  0.03201878  0.03037043\n",
      " -0.02840513 -0.00928493 -0.00687119  0.00379138]) = 0.003797\n"
     ]
    },
    {
     "name": "stderr",
     "output_type": "stream",
     "text": [
      "Progress:   0%|          | 439/10000000 [00:00<34:49, 4784.62it/s]\n"
     ]
    },
    {
     "name": "stdout",
     "output_type": "stream",
     "text": [
      "Stop criterium reached. Stopping the algorithm.\n",
      "f([ 0.02209032  0.02255732 -0.02729447  0.01629785  0.03468288 -0.01374748\n",
      " -0.00409509  0.00895761  0.03414699 -0.00458089]) = 0.004683\n"
     ]
    },
    {
     "name": "stderr",
     "output_type": "stream",
     "text": [
      "Progress:   0%|          | 0/10000000 [00:00<?, ?it/s]"
     ]
    },
    {
     "name": "stdout",
     "output_type": "stream",
     "text": [
      "Stop criterium reached. Stopping the algorithm."
     ]
    },
    {
     "name": "stderr",
     "output_type": "stream",
     "text": [
      "Progress:   0%|          | 393/10000000 [00:00<32:08, 5185.17it/s]\n"
     ]
    },
    {
     "name": "stdout",
     "output_type": "stream",
     "text": [
      "\n",
      "f([ 0.03296496 -0.00583861 -0.01006437  0.01676586  0.02460436 -0.00238129\n",
      " -0.0381057  -0.01224046 -0.02757657 -0.01977354]) = 0.004868\n"
     ]
    },
    {
     "name": "stderr",
     "output_type": "stream",
     "text": [
      "Progress:   0%|          | 441/10000000 [00:00<40:05, 4157.35it/s]"
     ]
    },
    {
     "name": "stdout",
     "output_type": "stream",
     "text": [
      "Stop criterium reached. Stopping the algorithm.\n",
      "f([ 0.00401814 -0.00682275 -0.02434905 -0.00405893 -0.00811025  0.01164664\n",
      " -0.01045745 -0.01207516 -0.02958585  0.02042791]) = 0.002421\n",
      "Done!\n",
      "[[array([-0.00913477, -0.03994994,  0.01003236, -0.00763159,  0.00772438,\n",
      "       -0.04395363, -0.01550445, -0.00884511,  0.01673597, -0.01884319]), 0.004783700193650214, 394], [array([-0.02808883,  0.03289967, -0.00227291,  0.02045894, -0.03386005,\n",
      "        0.01317643, -0.0151439 , -0.02529178, -0.00954079, -0.01454897]), 0.004786937669313645, 451], [array([ 0.01515524, -0.03634403,  0.00380734, -0.02505338, -0.03217198,\n",
      "       -0.0146528 , -0.01856117,  0.02467741, -0.0042097 ,  0.0061752 ]), 0.0044518249243502995, 484], [array([-0.01613556,  0.02502022, -0.00120788,  0.03383999,  0.01092718,\n",
      "       -0.00761006, -0.04459275, -0.00677833,  0.00665136,  0.0266637 ]), 0.004999940513820047, 400], [array([-0.01441868, -0.01266771, -0.03365315,  0.00744054, -0.00242049,\n",
      "        0.04062633, -0.02003114,  0.00035245,  0.01054603,  0.00479799]), 0.0037482327381242126, 420], [array([-0.01343322,  0.03178405,  0.02980723, -0.0064371 ,  0.0152285 ,\n",
      "        0.00102071, -0.00814961, -0.03141438, -0.01177843, -0.03609477]), 0.004848376179072634, 483], [array([-0.0268625 ,  0.00219288, -0.00387433,  0.01238568,  0.03201878,\n",
      "        0.03037043, -0.02840513, -0.00928493, -0.00687119,  0.00379138]), 0.003797032298094162, 449], [array([ 0.02209032,  0.02255732, -0.02729447,  0.01629785,  0.03468288,\n",
      "       -0.01374748, -0.00409509,  0.00895761,  0.03414699, -0.00458089]), 0.00468332835958977, 439], [array([ 0.03296496, -0.00583861, -0.01006437,  0.01676586,  0.02460436,\n",
      "       -0.00238129, -0.0381057 , -0.01224046, -0.02757657, -0.01977354]), 0.004867541721441844, 393], [array([ 0.00401814, -0.00682275, -0.02434905, -0.00405893, -0.00811025,\n",
      "        0.01164664, -0.01045745, -0.01207516, -0.02958585,  0.02042791]), 0.002421256541685941, 441]]\n"
     ]
    },
    {
     "name": "stderr",
     "output_type": "stream",
     "text": [
      "\n"
     ]
    }
   ],
   "source": [
    "# evolution strategy (mu + lambda) of the ackley objective function\n",
    "from numpy import asarray\n",
    "from numpy import exp\n",
    "from numpy import sqrt\n",
    "from numpy import cos\n",
    "from numpy import e\n",
    "from numpy import pi\n",
    "from numpy import argsort\n",
    "from numpy.random import randn\n",
    "from numpy.random import rand\n",
    "from numpy.random import seed\n",
    "import numpy as np\n",
    "from tqdm import tqdm\n",
    "\n",
    "# objective function\n",
    "def objective(v):\n",
    "\t#x, y = v\n",
    "\t#return -20.0 * exp(-0.2 * sqrt(0.5 * (x**2 + y**2))) - exp(0.5 * (cos(2 * pi * x) + cos(2 * pi * y))) + e + 20\n",
    "\tv = np.array(v)  #transform to numpy array\n",
    "\treturn np.sum(v*v)\n",
    "\n",
    "def one_fifth_rule(sigma, a, P_s):\n",
    "\tif P_s > 1/5:\n",
    "\t\treturn sigma/a\n",
    "\telif P_s < 1/5: \n",
    "\t\treturn sigma*a\n",
    "\telse: \n",
    "\t\treturn sigma\n",
    "\n",
    "# check if a point is within the bounds of the search\n",
    "def in_bounds(point, bounds):\n",
    "\t# enumerate all dimensions of the point\n",
    "\tfor d in range(len(bounds)):\n",
    "\t\t# check if out of bounds for this dimension\n",
    "\t\tif point[d] < bounds[d, 0] or point[d] > bounds[d, 1]:\n",
    "\t\t\treturn False\n",
    "\treturn True\n",
    "\n",
    "# evolution strategy (mu, lambda) algorithm\n",
    "def es_comma(objective, bounds, n_iter, step_size, mu, lam, initial_population, stop_criterium, one_fifth_params):\n",
    "\tbest, best_eval = None, 1e+10\n",
    "\t# calculate the number of children per parent\n",
    "\tn_children = int(lam / mu)\n",
    "\t# initial population\n",
    "\tpopulation = list()\n",
    "\t#for _ in range(lam):\n",
    "\t#\tcandidate = None\n",
    "\t#\twhile candidate is None or not in_bounds(candidate, bounds):\n",
    "\t#\t\tcandidate = bounds[:, 0] + rand(len(bounds)) * (bounds[:, 1] - bounds[:, 0])\n",
    "\t#\tpopulation.append(candidate)\n",
    "\n",
    "\tpopulation = initial_population\n",
    "\n",
    "\t# unpack one-fifth rule params\n",
    "\ta, G = one_fifth_params\n",
    "\t\n",
    "\t# perform the search\n",
    "\tG_s = 0\n",
    "\tfor epoch in tqdm(range(n_iter), desc=\"Progress: \"):\n",
    "\t\t# evaluate fitness for the population\n",
    "\t\tscores = [objective(c) for c in population]\n",
    "\t\t# rank scores in ascending order\n",
    "\t\tranks = argsort(argsort(scores))\n",
    "\t\t# select the indexes for the top mu ranked solutions\n",
    "\t\tselected = [i for i,_ in enumerate(ranks) if ranks[i] < mu]\n",
    "\t\t# create children from parents\n",
    "\t\tchildren = list()\n",
    "\t\tfor i in selected:\n",
    "\t\t\t# check if this parent is the best solution ever seen\n",
    "\t\t\tif scores[i] < best_eval:\n",
    "\t\t\t\tbest, best_eval = population[i], scores[i]\n",
    "\t\t\t\t#print('%d, Best: f(%s) = %.5f' % (epoch, best, best_eval))\n",
    "\t\t\t\tG_s += 1  # count successful mutations\n",
    "\t\t\t\tif best_eval <= stop_criterium:\n",
    "\t\t\t\t\tprint(\"Stop criterium reached. Stopping the algorithm.\")\n",
    "\t\t\t\t\treturn [best, best_eval, epoch]\n",
    "\t\t\t# keep the parent\n",
    "\t\t\tchildren.append(population[i])\n",
    "\t\t\t# create children for parent\n",
    "\t\t\tP_s = G_s / G\n",
    "\t\t\tfor _ in range(n_children):\n",
    "\t\t\t\tchild = None\n",
    "\t\t\t\twhile child is None or not in_bounds(child, bounds):\n",
    "\t\t\t\t\tif epoch%G == 0:  # every G generations, allow to adjust the step_size (in the slides, called sigma)\n",
    "\t\t\t\t\t\tstep_size = one_fifth_rule(step_size, a, P_s)\n",
    "\t\t\t\t\t\tG_s = 0\n",
    "\t\t\t\t\tchild = population[i] + randn(len(bounds)) * step_size\n",
    "\t\t\t\tchildren.append(child)\n",
    "\t\t# replace population with children\n",
    "\t\tpopulation = children\n",
    "\treturn [best, best_eval, n_iter]\n",
    "\n",
    "\n",
    "# seed the pseudorandom number generator\n",
    "seed(1)\n",
    "# define range for input\n",
    "bounds = asarray([[-1000000, 1000000], [-1000000, 1000000], [-1000000, 1000000], [-1000000, 1000000], [-1000000, 1000000], [-1000000, 1000000], [-1000000, 1000000], [-1000000, 1000000], [-1000000, 1000000], [-1000000, 1000000]])\n",
    "# define the total iterations\n",
    "n_iter = 10000000\n",
    "# define the maximum step size\n",
    "step_size = 1\n",
    "# number of parents selected\n",
    "mu = 1\n",
    "# the number of children generated by parents\n",
    "lam = 1\n",
    "# create the initial population\n",
    "genome_length = 10 \n",
    "initial_population = np.ones((1,genome_length)).tolist()\n",
    "# stop criterium\n",
    "stop_criterium = 0.005\n",
    "# one-fifth rule params\n",
    "a = 0.9\n",
    "G = 10\n",
    "one_fifth_params = [a, G]\n",
    "# perform the evolution strategy (mu, lambda) search\n",
    "\n",
    "data = list()\n",
    "for run in range(10):\n",
    "\tbest, score, n_iters = es_comma(objective, bounds, n_iter, step_size, mu, lam, initial_population, stop_criterium, one_fifth_params)\n",
    "\tprint('f(%s) = %f' % (best, score))\n",
    "\tdata.append([best, score, n_iters])\n",
    "\n",
    "print('Done!')\n",
    "print(data)"
   ]
  }
 ],
 "metadata": {
  "kernelspec": {
   "display_name": "Python 3.9.13 ('python39')",
   "language": "python",
   "name": "python3"
  },
  "language_info": {
   "codemirror_mode": {
    "name": "ipython",
    "version": 3
   },
   "file_extension": ".py",
   "mimetype": "text/x-python",
   "name": "python",
   "nbconvert_exporter": "python",
   "pygments_lexer": "ipython3",
   "version": "3.9.13"
  },
  "orig_nbformat": 4,
  "vscode": {
   "interpreter": {
    "hash": "d74e7b715fd2200e572f24360013685c78770b9fba6664dbf67eecd7b247884c"
   }
  }
 },
 "nbformat": 4,
 "nbformat_minor": 2
}
