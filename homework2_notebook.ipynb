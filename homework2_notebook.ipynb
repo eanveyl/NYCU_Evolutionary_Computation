{
 "cells": [
  {
   "cell_type": "markdown",
   "metadata": {},
   "source": [
    "HW2 - 3. In order to minimize the n-dimensional sphere model, where n = 10, implement the following evolution strategies:\n",
    "a) (1,1)-ES with fixed step sizes for Gaussian mutation. sigma=0.01, 0.1, and 1.0"
   ]
  },
  {
   "cell_type": "code",
   "execution_count": 2,
   "metadata": {},
   "outputs": [
    {
     "name": "stderr",
     "output_type": "stream",
     "text": [
      "Progress:   0%|          | 0/10000000 [00:00<?, ?it/s]"
     ]
    },
    {
     "name": "stdout",
     "output_type": "stream",
     "text": [
      "0, Best: f([1.0, 1.0, 1.0, 1.0, 1.0, 1.0, 1.0, 1.0, 1.0, 1.0]) = 10.00000\n"
     ]
    },
    {
     "name": "stderr",
     "output_type": "stream",
     "text": [
      "Progress:   0%|          | 1/10000000 [00:02<6406:54:47,  2.31s/it]"
     ]
    },
    {
     "name": "stdout",
     "output_type": "stream",
     "text": [
      "1, Best: f([1.01624345 0.99388244 0.99471828 0.98927031 1.00865408 0.97698461\n",
      " 1.01744812 0.99238793 1.00319039 0.9975063 ]) = 9.98200\n"
     ]
    },
    {
     "name": "stderr",
     "output_type": "stream",
     "text": [
      "Progress:   0%|          | 2/10000000 [00:06<9452:20:53,  3.40s/it]"
     ]
    },
    {
     "name": "stdout",
     "output_type": "stream",
     "text": [
      "2, Best: f([1.03086453 0.97328103 0.99149411 0.98542977 1.01999177 0.9659857\n",
      " 1.01572384 0.98360935 1.00361253 1.00333445]) = 9.95070\n"
     ]
    },
    {
     "name": "stderr",
     "output_type": "stream",
     "text": [
      "Progress:   0%|          | 4/10000000 [00:09<5810:26:36,  2.09s/it]"
     ]
    },
    {
     "name": "stdout",
     "output_type": "stream",
     "text": [
      "4, Best: f([1.01294173 0.98076073 0.99363829 0.98200266 1.02228787 0.95902178\n",
      " 1.00332183 0.97659581 1.01753167 1.01605844]) = 9.93252\n"
     ]
    },
    {
     "name": "stderr",
     "output_type": "stream",
     "text": [
      "Progress:   0%|          | 19/10000000 [12:19<519483:53:26, 187.01s/it]"
     ]
    }
   ],
   "source": [
    "# evolution strategy (mu, lambda) of the ackley objective function\n",
    "from numpy import asarray\n",
    "from numpy import exp\n",
    "from numpy import sqrt\n",
    "from numpy import cos\n",
    "from numpy import e\n",
    "from numpy import pi\n",
    "from numpy import argsort\n",
    "from numpy.random import randn\n",
    "from numpy.random import rand\n",
    "from numpy.random import seed\n",
    "import numpy as np\n",
    "from tqdm import tqdm\n",
    "\n",
    "# objective function\n",
    "def objective(v):\n",
    "\t#x, y = v\n",
    "\t#return -20.0 * exp(-0.2 * sqrt(0.5 * (x**2 + y**2))) - exp(0.5 * (cos(2 * pi * x) + cos(2 * pi * y))) + e + 20\n",
    "\tv = np.array(v)  #transform to numpy array\n",
    "\treturn np.sum(v*v)\n",
    "\n",
    "# check if a point is within the bounds of the search\n",
    "def in_bounds(point, bounds):\n",
    "\t# enumerate all dimensions of the point\n",
    "\tfor d in range(len(bounds)):\n",
    "\t\t# check if out of bounds for this dimension\n",
    "\t\tif point[d] < bounds[d, 0] or point[d] > bounds[d, 1]:\n",
    "\t\t\treturn False\n",
    "\treturn True\n",
    "\n",
    "# evolution strategy (mu, lambda) algorithm\n",
    "def es_comma(objective, bounds, n_iter, step_size, mu, lam, initial_population, stop_criterium):\n",
    "\tbest, best_eval = None, 1e+10\n",
    "\t# calculate the number of children per parent\n",
    "\tn_children = int(lam / mu)\n",
    "\t# initial population\n",
    "\tpopulation = list()\n",
    "\t#for _ in range(lam):\n",
    "\t#\tcandidate = None\n",
    "\t#\twhile candidate is None or not in_bounds(candidate, bounds):\n",
    "\t#\t\tcandidate = bounds[:, 0] + rand(len(bounds)) * (bounds[:, 1] - bounds[:, 0])\n",
    "\t#\tpopulation.append(candidate)\n",
    "\n",
    "\tpopulation = initial_population\n",
    "\n",
    "\t# perform the search\n",
    "\tfor epoch in tqdm(range(n_iter), desc=\"Progress: \"):\n",
    "\t\t# evaluate fitness for the population\n",
    "\t\tscores = [objective(c) for c in population]\n",
    "\t\t# rank scores in ascending order\n",
    "\t\tranks = argsort(argsort(scores))\n",
    "\t\t# select the indexes for the top mu ranked solutions\n",
    "\t\tselected = [i for i,_ in enumerate(ranks) if ranks[i] < mu]\n",
    "\t\t# create children from parents\n",
    "\t\tchildren = list()\n",
    "\t\tfor i in selected:\n",
    "\t\t\t# check if this parent is the best solution ever seen\n",
    "\t\t\tif scores[i] < best_eval:\n",
    "\t\t\t\tbest, best_eval = population[i], scores[i]\n",
    "\t\t\t\tprint('%d, Best: f(%s) = %.5f' % (epoch, best, best_eval))\n",
    "\t\t\t\tif best_eval <= stop_criterium:\n",
    "\t\t\t\t\tprint(\"Stop criterium reached. Stopping the algorithm.\")\n",
    "\t\t\t\t\tbreak\n",
    "\t\t\t# create children for parent\n",
    "\t\t\tfor _ in range(n_children):\n",
    "\t\t\t\tchild = None\n",
    "\t\t\t\twhile child is None or not in_bounds(child, bounds):\n",
    "\t\t\t\t\tchild = population[i] + randn(len(bounds)) * step_size\n",
    "\t\t\t\tchildren.append(child)\n",
    "\t\t# replace population with children\n",
    "\t\tpopulation = children\n",
    "\treturn [best, best_eval]\n",
    "\n",
    "\n",
    "# seed the pseudorandom number generator\n",
    "seed(1)\n",
    "# define range for input\n",
    "bounds = asarray([[-1000000, 1000000], [-1000000, 1000000], [-1000000, 1000000], [-1000000, 1000000], [-1000000, 1000000], [-1000000, 1000000], [-1000000, 1000000], [-1000000, 1000000], [-1000000, 1000000], [-1000000, 1000000]])\n",
    "# define the total iterations\n",
    "n_iter = 10000000\n",
    "# define the maximum step size\n",
    "step_size = 0.01\n",
    "# number of parents selected\n",
    "mu = 1\n",
    "# the number of children generated by parents\n",
    "lam = 1\n",
    "# create the initial population\n",
    "genome_length = 10 \n",
    "initial_population = np.ones((1,genome_length)).tolist()\n",
    "# stop criterium\n",
    "stop_criterium = 0.005\n",
    "# perform the evolution strategy (mu, lambda) search\n",
    "best, score = es_comma(objective, bounds, n_iter, step_size, mu, lam, initial_population, stop_criterium)\n",
    "print('Done!')\n",
    "print('f(%s) = %f' % (best, score))"
   ]
  },
  {
   "cell_type": "markdown",
   "metadata": {},
   "source": [
    "b) (1+1)-ES with fixed step sizes for Gaussian mutation. sigma=0.01, 0.1, and 1.0"
   ]
  },
  {
   "cell_type": "code",
   "execution_count": null,
   "metadata": {},
   "outputs": [],
   "source": [
    "# evolution strategy (mu + lambda) of the ackley objective function\n",
    "from numpy import asarray\n",
    "from numpy import exp\n",
    "from numpy import sqrt\n",
    "from numpy import cos\n",
    "from numpy import e\n",
    "from numpy import pi\n",
    "from numpy import argsort\n",
    "from numpy.random import randn\n",
    "from numpy.random import rand\n",
    "from numpy.random import seed\n",
    "import numpy as np\n",
    "from tqdm import tqdm\n",
    "\n",
    "# objective function\n",
    "def objective(v):\n",
    "\t#x, y = v\n",
    "\t#return -20.0 * exp(-0.2 * sqrt(0.5 * (x**2 + y**2))) - exp(0.5 * (cos(2 * pi * x) + cos(2 * pi * y))) + e + 20\n",
    "\tv = np.array(v)  #transform to numpy array\n",
    "\treturn np.sum(v*v)\n",
    "\n",
    "# check if a point is within the bounds of the search\n",
    "def in_bounds(point, bounds):\n",
    "\t# enumerate all dimensions of the point\n",
    "\tfor d in range(len(bounds)):\n",
    "\t\t# check if out of bounds for this dimension\n",
    "\t\tif point[d] < bounds[d, 0] or point[d] > bounds[d, 1]:\n",
    "\t\t\treturn False\n",
    "\treturn True\n",
    "\n",
    "# evolution strategy (mu, lambda) algorithm\n",
    "def es_comma(objective, bounds, n_iter, step_size, mu, lam, initial_population, stop_criterium):\n",
    "\tbest, best_eval = None, 1e+10\n",
    "\t# calculate the number of children per parent\n",
    "\tn_children = int(lam / mu)\n",
    "\t# initial population\n",
    "\tpopulation = list()\n",
    "\t#for _ in range(lam):\n",
    "\t#\tcandidate = None\n",
    "\t#\twhile candidate is None or not in_bounds(candidate, bounds):\n",
    "\t#\t\tcandidate = bounds[:, 0] + rand(len(bounds)) * (bounds[:, 1] - bounds[:, 0])\n",
    "\t#\tpopulation.append(candidate)\n",
    "\n",
    "\tpopulation = initial_population\n",
    "\n",
    "\t# perform the search\n",
    "\tfor epoch in tqdm(range(n_iter), desc=\"Progress: \"):\n",
    "\t\t# evaluate fitness for the population\n",
    "\t\tscores = [objective(c) for c in population]\n",
    "\t\t# rank scores in ascending order\n",
    "\t\tranks = argsort(argsort(scores))\n",
    "\t\t# select the indexes for the top mu ranked solutions\n",
    "\t\tselected = [i for i,_ in enumerate(ranks) if ranks[i] < mu]\n",
    "\t\t# create children from parents\n",
    "\t\tchildren = list()\n",
    "\t\tfor i in selected:\n",
    "\t\t\t# check if this parent is the best solution ever seen\n",
    "\t\t\tif scores[i] < best_eval:\n",
    "\t\t\t\tbest, best_eval = population[i], scores[i]\n",
    "\t\t\t\tprint('%d, Best: f(%s) = %.5f' % (epoch, best, best_eval))\n",
    "\t\t\t\tif best_eval <= stop_criterium:\n",
    "\t\t\t\t\tprint(\"Stop criterium reached. Stopping the algorithm.\")\n",
    "\t\t\t\t\tbreak\n",
    "            # keep the parent\n",
    "            children.append(population[i])\n",
    "\t\t\t# create children for parent\n",
    "\t\t\tfor _ in range(n_children):\n",
    "\t\t\t\tchild = None\n",
    "\t\t\t\twhile child is None or not in_bounds(child, bounds):\n",
    "\t\t\t\t\tchild = population[i] + randn(len(bounds)) * step_size\n",
    "\t\t\t\tchildren.append(child)\n",
    "\t\t# replace population with children\n",
    "\t\tpopulation = children\n",
    "\treturn [best, best_eval]\n",
    "\n",
    "\n",
    "# seed the pseudorandom number generator\n",
    "seed(1)\n",
    "# define range for input\n",
    "bounds = asarray([[-1000000, 1000000], [-1000000, 1000000], [-1000000, 1000000], [-1000000, 1000000], [-1000000, 1000000], [-1000000, 1000000], [-1000000, 1000000], [-1000000, 1000000], [-1000000, 1000000], [-1000000, 1000000]])\n",
    "# define the total iterations\n",
    "n_iter = 10000000\n",
    "# define the maximum step size\n",
    "step_size = 0.01\n",
    "# number of parents selected\n",
    "mu = 1\n",
    "# the number of children generated by parents\n",
    "lam = 1\n",
    "# create the initial population\n",
    "genome_length = 10 \n",
    "initial_population = np.ones((1,genome_length)).tolist()\n",
    "# stop criterium\n",
    "stop_criterium = 0.005\n",
    "# perform the evolution strategy (mu, lambda) search\n",
    "best, score = es_comma(objective, bounds, n_iter, step_size, mu, lam, initial_population, stop_criterium)\n",
    "print('Done!')\n",
    "print('f(%s) = %f' % (best, score))"
   ]
  }
 ],
 "metadata": {
  "kernelspec": {
   "display_name": "Python 3.9.13 ('python39')",
   "language": "python",
   "name": "python3"
  },
  "language_info": {
   "codemirror_mode": {
    "name": "ipython",
    "version": 3
   },
   "file_extension": ".py",
   "mimetype": "text/x-python",
   "name": "python",
   "nbconvert_exporter": "python",
   "pygments_lexer": "ipython3",
   "version": "3.9.13"
  },
  "orig_nbformat": 4,
  "vscode": {
   "interpreter": {
    "hash": "d74e7b715fd2200e572f24360013685c78770b9fba6664dbf67eecd7b247884c"
   }
  }
 },
 "nbformat": 4,
 "nbformat_minor": 2
}
